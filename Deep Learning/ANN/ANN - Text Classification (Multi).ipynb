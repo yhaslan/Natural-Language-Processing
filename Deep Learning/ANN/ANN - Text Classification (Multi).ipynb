{
 "cells": [
  {
   "cell_type": "markdown",
   "id": "6601ddca",
   "metadata": {},
   "source": [
    "# Text Classification with ANN\n",
    "## Multiclass Classification\n",
    "- so far we discussed binary classification which uses sigmoid at the output\n",
    "- we replaced sigmoids with ReLus in the hidden layers\n",
    "- for final layer, if we're doing binary classification, sigmoid's still the best choice\n",
    "    - ex: disease vs no disease, fraud vs non-fraud, click on ad vs not click, accept friend request\n",
    "- for multiple?\n",
    "- ex: optical character recognition or handwiriting recognition, recognizing alphanumerical characters means at least 36 possibilities for eng :10 digits and 26 letters\n",
    "- speech recognition: each word counts as a separate category\n",
    "- image classifiation\n",
    "\n",
    "### Imagine one step before applying the final activation function\n",
    "- we're at final equation ipad\n",
    "- a^(L) is a vector of size K, with K being number of classes in our classifier\n",
    "- we wanna map these values into probabilities for each of the class K\n",
    "- if we have K possible outcomes then we should have K output nodes\n",
    "- what function can actually map that vector a to probabilities?\n",
    "- we need a probability distribution over K distinct values\n",
    "#### Requirements: \n",
    "- the values should be non-negative\n",
    "- also each value should be smaller than 1.\n",
    "- most importantly values should sum to 1.\n",
    "### Softmax function accomplishes exactly that."
   ]
  },
  {
   "cell_type": "raw",
   "id": "65a7e5d6",
   "metadata": {},
   "source": [
    "tf.keras.layers.Dense(K, activation = \"softmax\")"
   ]
  },
  {
   "cell_type": "markdown",
   "id": "3466b8e4",
   "metadata": {},
   "source": [
    "- Softmax is an activation function but unlike other activation functions it's not meant for hidden activators.\n",
    "- we normally use it to get output prob\n",
    "\n",
    "### Summary:\n",
    "- for binary classification, we need just one output node since p(y=1|x) = 1-p(y=0|x) AND SIGMOID in final layer\n",
    "- for regression, we need no activation functions (or Identity function)\n",
    "- for multiclass classification, we need K output nodes AND SOFTMAX\n",
    "\n",
    "#### Note: softmax is more general, it can also does binary classification, it's just one of your output nodes will be a bit redundant çünkü diğer prob'u birden çıkarsan aynı. ama aynı durum zaten K class distribution'daki son nod için de geçerli\n",
    "\n",
    "## ANN Code Preparation"
   ]
  },
  {
   "cell_type": "raw",
   "id": "9394252c",
   "metadata": {},
   "source": [
    "i = Input(shape = (D,))\n",
    "x = Dense(M, activation = \"relu\")[i]\n",
    "x = Dense(M, activation = \"relu\")[x]\n",
    "x = Dense(M, activation = \"relu\")[x]\n",
    "x = Dense(M, activation = \"relu\")[x]\n",
    "...\n",
    "x = Dense(K, activation = \"softmax\")[x]\n",
    "\n",
    "model = Model(i, x)\n",
    "\n",
    "#M is what we call number of hidden units (a hyperparameter) you need to specify.\n",
    "#notice final dense layer has to have K output nodes / K units as we do multiclass classification"
   ]
  },
  {
   "cell_type": "markdown",
   "id": "066cbe22",
   "metadata": {},
   "source": [
    "### Compile\n",
    "#### Method 1:\n",
    "if you use the sparse categorical cross entropy, your targets will be a 1-D array of length N, containing the integer representation of each class."
   ]
  },
  {
   "cell_type": "raw",
   "id": "bb01111d",
   "metadata": {},
   "source": [
    "model.compile(\n",
    "    loss = 'sparse_categorical_crossentropy',\n",
    "    optimizer = 'adam',\n",
    "    metrics = ['accuracy']\n",
    "    )"
   ]
  },
  {
   "cell_type": "markdown",
   "id": "f051db72",
   "metadata": {},
   "source": [
    "#### Method 2:\n",
    "if you wanna use regular categorical cross entropy, your targets will be a matrix of shape NxK, N for samples and K for classes\n",
    "\n",
    "each row will contain 0 for other classes, and 1 for the target class"
   ]
  },
  {
   "cell_type": "raw",
   "id": "2ff9326e",
   "metadata": {},
   "source": [
    "model.compile(\n",
    "    loss = 'categorical_crossentropy',\n",
    "    optimizer = 'adam',\n",
    "    metrics = ['accuracy']\n",
    "    )"
   ]
  },
  {
   "cell_type": "markdown",
   "id": "e356cec4",
   "metadata": {},
   "source": [
    "#### Clearly the Sparse version is more efficient, so unless other reason go for it\n",
    "- as a side note, know that NxK target matrix is called one-hot encoding of the NxK target vector\n",
    "- this idea will be helpful when discuss embeddings as well\n",
    "\n",
    "#### As with binary cross-entropy, here as well possible to combine the activation function with softmax, so we would get a more numercially stable form. combine logs (in crossentropy) and exponentials (in softmax) so that they'd cancel one another.\n",
    "- just need to compute the logits\n",
    "- Here is the numerically stable form"
   ]
  },
  {
   "cell_type": "raw",
   "id": "509b8eac",
   "metadata": {},
   "source": [
    "i = Input(shape = (D,))\n",
    "x = Dense(M, activation = \"relu\")[i]\n",
    "x = Dense(M, activation = \"relu\")[x]\n",
    "x = Dense(M, activation = \"relu\")[x]\n",
    "x = Dense(M, activation = \"relu\")[x]\n",
    "...\n",
    "x = Dense(K)[x] #no softmax just W.T + b\n",
    "\n",
    "model = Model(i, x)\n",
    "\n",
    "model.compile(\n",
    "    loss = SparseCategoricalCrossentropy(from_logits = True) ,\n",
    "    optimizer = 'adam',\n",
    "    metrics = ['accuracy']\n",
    "    )\n",
    "    \n",
    "model.fit(...)"
   ]
  },
  {
   "cell_type": "markdown",
   "id": "5d2f9815",
   "metadata": {},
   "source": [
    "## Exercise\n",
    "dataset is BBC news again"
   ]
  },
  {
   "cell_type": "code",
   "execution_count": 1,
   "id": "8ed792ed",
   "metadata": {},
   "outputs": [
    {
     "name": "stdout",
     "output_type": "stream",
     "text": [
      "--2023-06-16 16:45:02--  https://lazyprogrammer.me/course_files/nlp/bbc_text_cls.csv\n",
      "Resolving lazyprogrammer.me (lazyprogrammer.me)... 104.21.23.210, 172.67.213.166\n",
      "Connecting to lazyprogrammer.me (lazyprogrammer.me)|104.21.23.210|:443... connected.\n",
      "HTTP request sent, awaiting response... 200 OK\n",
      "Length: 5085081 (4.8M) [text/csv]\n",
      "Saving to: 'bbc_text_cls.csv'\n",
      "\n",
      "bbc_text_cls.csv    100%[===================>]   4.85M  2.12MB/s    in 2.3s    \n",
      "\n",
      "2023-06-16 16:45:05 (2.12 MB/s) - 'bbc_text_cls.csv' saved [5085081/5085081]\n",
      "\n"
     ]
    }
   ],
   "source": [
    "# https://www.kaggle.com/shivamkushwaha/bbc-full-text-document-classification\n",
    "!wget -nc https://lazyprogrammer.me/course_files/nlp/bbc_text_cls.csv"
   ]
  },
  {
   "cell_type": "code",
   "execution_count": 2,
   "id": "43afa81f",
   "metadata": {},
   "outputs": [
    {
     "name": "stderr",
     "output_type": "stream",
     "text": [
      "2023-06-16 16:45:31.250071: I tensorflow/core/platform/cpu_feature_guard.cc:182] This TensorFlow binary is optimized to use available CPU instructions in performance-critical operations.\n",
      "To enable the following instructions: AVX2 FMA, in other operations, rebuild TensorFlow with the appropriate compiler flags.\n"
     ]
    }
   ],
   "source": [
    "import numpy as np\n",
    "import pandas as pd\n",
    "import tensorflow as tf\n",
    "import matplotlib.pyplot as plt\n",
    "from sklearn.model_selection import train_test_split\n",
    "from sklearn.feature_extraction.text import TfidfVectorizer ## gene bunu kullanıyoz \n",
    "\n",
    "from tensorflow.keras.layers import Dense, Input\n",
    "from tensorflow.keras.models import Model"
   ]
  },
  {
   "cell_type": "code",
   "execution_count": 3,
   "id": "05e7a126",
   "metadata": {},
   "outputs": [
    {
     "data": {
      "text/html": [
       "<div>\n",
       "<style scoped>\n",
       "    .dataframe tbody tr th:only-of-type {\n",
       "        vertical-align: middle;\n",
       "    }\n",
       "\n",
       "    .dataframe tbody tr th {\n",
       "        vertical-align: top;\n",
       "    }\n",
       "\n",
       "    .dataframe thead th {\n",
       "        text-align: right;\n",
       "    }\n",
       "</style>\n",
       "<table border=\"1\" class=\"dataframe\">\n",
       "  <thead>\n",
       "    <tr style=\"text-align: right;\">\n",
       "      <th></th>\n",
       "      <th>text</th>\n",
       "      <th>labels</th>\n",
       "    </tr>\n",
       "  </thead>\n",
       "  <tbody>\n",
       "    <tr>\n",
       "      <th>0</th>\n",
       "      <td>Ad sales boost Time Warner profit\\n\\nQuarterly...</td>\n",
       "      <td>business</td>\n",
       "    </tr>\n",
       "    <tr>\n",
       "      <th>1</th>\n",
       "      <td>Dollar gains on Greenspan speech\\n\\nThe dollar...</td>\n",
       "      <td>business</td>\n",
       "    </tr>\n",
       "    <tr>\n",
       "      <th>2</th>\n",
       "      <td>Yukos unit buyer faces loan claim\\n\\nThe owner...</td>\n",
       "      <td>business</td>\n",
       "    </tr>\n",
       "    <tr>\n",
       "      <th>3</th>\n",
       "      <td>High fuel prices hit BA's profits\\n\\nBritish A...</td>\n",
       "      <td>business</td>\n",
       "    </tr>\n",
       "    <tr>\n",
       "      <th>4</th>\n",
       "      <td>Pernod takeover talk lifts Domecq\\n\\nShares in...</td>\n",
       "      <td>business</td>\n",
       "    </tr>\n",
       "  </tbody>\n",
       "</table>\n",
       "</div>"
      ],
      "text/plain": [
       "                                                text    labels\n",
       "0  Ad sales boost Time Warner profit\\n\\nQuarterly...  business\n",
       "1  Dollar gains on Greenspan speech\\n\\nThe dollar...  business\n",
       "2  Yukos unit buyer faces loan claim\\n\\nThe owner...  business\n",
       "3  High fuel prices hit BA's profits\\n\\nBritish A...  business\n",
       "4  Pernod takeover talk lifts Domecq\\n\\nShares in...  business"
      ]
     },
     "execution_count": 3,
     "metadata": {},
     "output_type": "execute_result"
    }
   ],
   "source": [
    "df = pd.read_csv('bbc_text_cls.csv')\n",
    "df.head()"
   ]
  },
  {
   "cell_type": "code",
   "execution_count": 4,
   "id": "b9279c71",
   "metadata": {},
   "outputs": [
    {
     "data": {
      "text/plain": [
       "0       0\n",
       "1       0\n",
       "2       0\n",
       "3       0\n",
       "4       0\n",
       "       ..\n",
       "2220    4\n",
       "2221    4\n",
       "2222    4\n",
       "2223    4\n",
       "2224    4\n",
       "Length: 2225, dtype: int8"
      ]
     },
     "execution_count": 4,
     "metadata": {},
     "output_type": "execute_result"
    }
   ],
   "source": [
    "# map classes to integers from 0...K-1\n",
    "df['labels'].astype(\"category\").cat.codes\n",
    "\n",
    "#takes the labels in our dataframe, convert them to category type, and call cat codes for unique intergers start 0"
   ]
  },
  {
   "cell_type": "code",
   "execution_count": 5,
   "id": "9195c2f5",
   "metadata": {},
   "outputs": [],
   "source": [
    "df['targets'] = df['labels'].astype(\"category\").cat.codes"
   ]
  },
  {
   "cell_type": "code",
   "execution_count": 6,
   "id": "b0069128",
   "metadata": {},
   "outputs": [],
   "source": [
    "df_train, df_test = train_test_split(df, test_size=0.3) \n",
    "#dikkat et buna xtrain ytrain ytest belitmeden de split oluyo çünkü dataframe level'ında split yapıyosun\n",
    "\n",
    "tfidf = TfidfVectorizer(stop_words='english')\n",
    "Xtrain = tfidf.fit_transform(df_train['text'])\n",
    "Xtest = tfidf.transform(df_test['text'])\n",
    "\n",
    "Ytrain = df_train['targets']\n",
    "Ytest = df_test['targets']"
   ]
  },
  {
   "cell_type": "code",
   "execution_count": 7,
   "id": "6989c239",
   "metadata": {},
   "outputs": [
    {
     "data": {
      "text/plain": [
       "5"
      ]
     },
     "execution_count": 7,
     "metadata": {},
     "output_type": "execute_result"
    }
   ],
   "source": [
    "# number of classes\n",
    "K = df['targets'].max() + 1\n",
    "K"
   ]
  },
  {
   "cell_type": "code",
   "execution_count": 8,
   "id": "92003461",
   "metadata": {},
   "outputs": [
    {
     "data": {
      "text/plain": [
       "<bound method Model.summary of <keras.engine.functional.Functional object at 0x7f85b26004f0>>"
      ]
     },
     "execution_count": 8,
     "metadata": {},
     "output_type": "execute_result"
    }
   ],
   "source": [
    "# input dimensions\n",
    "D = Xtrain.shape[1]\n",
    "\n",
    "# build model\n",
    "i = Input(shape=(D,))\n",
    "x = Dense(300, activation='relu')(i) ##burdaki 300 ne??? \n",
    "#300 is the number of hidden units and it's arbitrary\n",
    "# feel free to play with hyperparameters this and activation function\n",
    "#also numbr of dense layers ?? \n",
    "x = Dense(K)(x) # softmax included in loss\n",
    "\n",
    "model = Model(i, x)\n",
    "model.summary"
   ]
  },
  {
   "cell_type": "code",
   "execution_count": 9,
   "id": "e4a17cf5",
   "metadata": {},
   "outputs": [],
   "source": [
    "model.compile(\n",
    "  loss=tf.keras.losses.SparseCategoricalCrossentropy(from_logits=True),\n",
    "  optimizer='adam',\n",
    "  metrics=['accuracy']\n",
    ")"
   ]
  },
  {
   "cell_type": "code",
   "execution_count": 10,
   "id": "40a8548a",
   "metadata": {},
   "outputs": [
    {
     "name": "stdout",
     "output_type": "stream",
     "text": [
      "Epoch 1/7\n",
      "13/13 [==============================] - 3s 165ms/step - loss: 1.4650 - accuracy: 0.8137 - val_loss: 1.1846 - val_accuracy: 0.9626\n",
      "Epoch 2/7\n",
      "13/13 [==============================] - 2s 156ms/step - loss: 0.9114 - accuracy: 0.9936 - val_loss: 0.7164 - val_accuracy: 0.9701\n",
      "Epoch 3/7\n",
      "13/13 [==============================] - 2s 179ms/step - loss: 0.4470 - accuracy: 0.9949 - val_loss: 0.4085 - val_accuracy: 0.9760\n",
      "Epoch 4/7\n",
      "13/13 [==============================] - 2s 146ms/step - loss: 0.1999 - accuracy: 0.9981 - val_loss: 0.2548 - val_accuracy: 0.9805\n",
      "Epoch 5/7\n",
      "13/13 [==============================] - 2s 155ms/step - loss: 0.0976 - accuracy: 0.9987 - val_loss: 0.1854 - val_accuracy: 0.9835\n",
      "Epoch 6/7\n",
      "13/13 [==============================] - 2s 146ms/step - loss: 0.0558 - accuracy: 1.0000 - val_loss: 0.1529 - val_accuracy: 0.9820\n",
      "Epoch 7/7\n",
      "13/13 [==============================] - 2s 136ms/step - loss: 0.0369 - accuracy: 1.0000 - val_loss: 0.1334 - val_accuracy: 0.9805\n"
     ]
    }
   ],
   "source": [
    "# data must not be sparse matrix before passing into tensorflow\n",
    "Xtrain = Xtrain.toarray()\n",
    "Xtest = Xtest.toarray()\n",
    "\n",
    "r = model.fit(\n",
    "  Xtrain, Ytrain,\n",
    "  validation_data=(Xtest, Ytest),\n",
    "  epochs=7,\n",
    "  batch_size=128,\n",
    ")\n",
    "\n",
    "# 7 epoch yeter mi ya"
   ]
  },
  {
   "cell_type": "code",
   "execution_count": 11,
   "id": "baadab2e",
   "metadata": {},
   "outputs": [
    {
     "data": {
      "image/png": "[encoded data removed]",
      "text/plain": [
       "<Figure size 640x480 with 1 Axes>"
      ]
     },
     "metadata": {},
     "output_type": "display_data"
    }
   ],
   "source": [
    "# Plot loss per iteration\n",
    "plt.plot(r.history['loss'], label='train loss')\n",
    "plt.plot(r.history['val_loss'], label='val loss')\n",
    "plt.legend();\n",
    "\n",
    "#last epoch looks good\n",
    "# ofc val loss not as good as train loss as expected"
   ]
  },
  {
   "cell_type": "code",
   "execution_count": 12,
   "id": "b3a42270",
   "metadata": {},
   "outputs": [
    {
     "data": {
      "image/png": "[encoded data removed]",
      "text/plain": [
       "<Figure size 640x480 with 1 Axes>"
      ]
     },
     "metadata": {},
     "output_type": "display_data"
    }
   ],
   "source": [
    "# Plot accuracy per iteration\n",
    "plt.plot(r.history['accuracy'], label='train acc')\n",
    "plt.plot(r.history['val_accuracy'], label='val acc')\n",
    "plt.legend();"
   ]
  },
  {
   "cell_type": "code",
   "execution_count": 13,
   "id": "5e892c6d",
   "metadata": {},
   "outputs": [
    {
     "data": {
      "image/png": "[encoded data removed]",
      "text/plain": [
       "<Figure size 640x480 with 1 Axes>"
      ]
     },
     "metadata": {},
     "output_type": "display_data"
    }
   ],
   "source": [
    "df['labels'].hist();\n",
    "\n",
    "#since our labels are relatively balanced no ned to check AUC or F1"
   ]
  },
  {
   "cell_type": "markdown",
   "id": "6df31d80",
   "metadata": {},
   "source": [
    "### Exercise Apply this to Sentiment Analysis\n",
    "### also do binary : apply to spam as well. \n",
    "\n",
    "- remember the last time we did sentiment analysis with neuron we interpreted weights as well, higher weights were assigned to more important words etc.\n",
    "- consider if the NN also has such interpretability"
   ]
  },
  {
   "cell_type": "code",
   "execution_count": null,
   "id": "fd0cbf2a",
   "metadata": {},
   "outputs": [],
   "source": []
  }
 ],
 "metadata": {
  "kernelspec": {
   "display_name": "Python 3 (ipykernel)",
   "language": "python",
   "name": "python3"
  },
  "language_info": {
   "codemirror_mode": {
    "name": "ipython",
    "version": 3
   },
   "file_extension": ".py",
   "mimetype": "text/x-python",
   "name": "python",
   "nbconvert_exporter": "python",
   "pygments_lexer": "ipython3",
   "version": "3.9.13"
  }
 },
 "nbformat": 4,
 "nbformat_minor": 5
}
