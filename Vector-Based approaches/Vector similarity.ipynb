{
 "cells": [
  {
   "cell_type": "markdown",
   "id": "50289279",
   "metadata": {},
   "source": [
    "## VECTOR SIMILARITY\n",
    "\n",
    "Consider as a function that shows a number reflecting the similarity btw vectors\n",
    "\n",
    "consider you suceeded converting all documents to vectors, now you can find most similar document to one, compare similarity btween words, ex:\n",
    "- car, vehicle, automobile should be very siilar\n",
    "- car, giraffe dissimilar olmalı\n",
    "\n",
    "useful for article spinning (rewriting an article by replacing a few words\n",
    "\n",
    "marketers use this to generate similar contents to existing ones w/o punished by google"
   ]
  },
  {
   "cell_type": "markdown",
   "id": "28cd1339",
   "metadata": {},
   "source": [
    "### We can use euclidian distance for vector similarity\n",
    "\n",
    "when two vectors are close together in distance they're similar, when far : dissimilar\n",
    "\n",
    "we can think of similarity as simply the negative of distance\n",
    "\n",
    "euclidian distance : koordinatların farklarının karesi nin karekökü\n",
    "\n",
    "### we can also check the angle between vectors Cosigne distance:\n",
    "\n",
    "formülü ipad'de açıklıycam\n",
    "\n",
    "### cosine similarity / distance a bit ore commonly used than euclidian distance in NLP :\n",
    "nedenini 18.dersin 9.dakikasından itibaren çok iyi anlatıyo\n",
    "\n",
    "### when these two distances are equivalent:\n",
    "- we don't care about the distanec in value, just in relative distance or similarity, just in ranking\n",
    "- bu en spn kısmı tam anlamadım."
   ]
  },
  {
   "cell_type": "code",
   "execution_count": null,
   "id": "63c08814",
   "metadata": {},
   "outputs": [],
   "source": []
  }
 ],
 "metadata": {
  "kernelspec": {
   "display_name": "Python 3 (ipykernel)",
   "language": "python",
   "name": "python3"
  },
  "language_info": {
   "codemirror_mode": {
    "name": "ipython",
    "version": 3
   },
   "file_extension": ".py",
   "mimetype": "text/x-python",
   "name": "python",
   "nbconvert_exporter": "python",
   "pygments_lexer": "ipython3",
   "version": "3.9.13"
  }
 },
 "nbformat": 4,
 "nbformat_minor": 5
}
