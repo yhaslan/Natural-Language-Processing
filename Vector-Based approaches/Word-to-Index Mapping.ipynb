{
 "cells": [
  {
   "cell_type": "markdown",
   "id": "e767561b",
   "metadata": {},
   "source": [
    "# Word-to-Index Mapping\n",
    "\n",
    "Important for building TF_IDF from scratch, not necessary if yıu'll only work in Sklearn but if gonna work Deep NLP with Pytorch, Tensorflow or Jax may need to know\n"
   ]
  },
  {
   "cell_type": "code",
   "execution_count": null,
   "id": "90bfec1e",
   "metadata": {},
   "outputs": [],
   "source": [
    "current_idx = 0\n",
    "word2idx = {} #an empty dictionary\n",
    "#when we say mapping in python it usually translates into a dictionary\n",
    "\n",
    "for doc in documents:\n",
    "    tokens = word_tokenize(doc) #this may contain punctruation as well but for the purposes now, treated the same\n",
    "    for token in tokens:\n",
    "        if token not in word2idx:## ya acaba burda word2idx.keys() desem de aynı olacak mıydı?\n",
    "            word2idx[token] = current_idx\n",
    "            current_idx +=1\n"
   ]
  },
  {
   "cell_type": "markdown",
   "id": "890c6282",
   "metadata": {},
   "source": [
    "Bunu bildikten sonra you can implement your own count vector demiş de nasıl yahu?\n",
    "\n",
    "Yani Sklearn deki countvectorizer class'ı kullanmadan yap anlamında mı? e onu yaptık egzersizde. \n",
    "\n",
    "Class'ı kullanırsak nasıl olur?\n",
    "\n",
    "### Train vs Test Set\n",
    "\n",
    "what to do with the words that are in the test set but not in the train set?\n",
    "\n",
    "- Method 1: simply ignore, your machine wouldn't know what to do w/ those words as not trained on them\n",
    "- Method 2: create a special index for unknown words or rare words not appeared in the train set\n",
    "\n",
    "#### in this case even some words appeared in the train srt could be considered rare words such that they get mapped to this special token\n",
    "\n",
    "- assign every word with frequencies fall below of a threshold to an unknown index\n",
    "\n",
    "- in this case our model will know what to do wth them\n",
    "\n",
    "- yet, downfall all unknown words will be treated the same\n",
    "\n",
    "### Reverse Mapping\n"
   ]
  },
  {
   "cell_type": "code",
   "execution_count": null,
   "id": "f06dd790",
   "metadata": {},
   "outputs": [],
   "source": []
  }
 ],
 "metadata": {
  "kernelspec": {
   "display_name": "Python 3 (ipykernel)",
   "language": "python",
   "name": "python3"
  },
  "language_info": {
   "codemirror_mode": {
    "name": "ipython",
    "version": 3
   },
   "file_extension": ".py",
   "mimetype": "text/x-python",
   "name": "python",
   "nbconvert_exporter": "python",
   "pygments_lexer": "ipython3",
   "version": "3.9.13"
  }
 },
 "nbformat": 4,
 "nbformat_minor": 5
}
