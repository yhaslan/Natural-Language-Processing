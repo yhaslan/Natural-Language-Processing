{
 "cells": [
  {
   "cell_type": "markdown",
   "id": "da2dec50",
   "metadata": {},
   "source": [
    "# Text Summarization\n",
    "\n",
    "You can actually categorize the methods for summarizing a text. These categories are:\n",
    "- Extractive vs. Abstractive\n",
    "- Extractive summaries are summaries built out of document itself, it consists of text taken from the original document, it's a subset\n",
    "- Abstractive summaries can contain new sequences of texts not necessarily taken from the input\n",
    "- the former are much easier to generate than latter: you'll just need to identify relevant parts with the code vs you need to develop an understanding of the input & convert that understanding into a text\n",
    "- This section of the course will focus on extractive summaries\n",
    "- Abstractive summaries more suited to deep learning such as seq2seq, transformers\n",
    "\n",
    "### We'll look at two methods:\n",
    "- Method 1: requires only knowledge of vector based methods (Tfidf)\n",
    "- Method 2: more complex, based on Google's Page Rank, requires a bit more knowledge on prob and algebra (specifically Markov chains?) different from probability used earlier\n",
    "\n",
    "## Using Vectors\n",
    "- we'll use Tfidf\n",
    "- split the document into sentences\n",
    "- score each sentecne\n",
    "- rank sentences by those scores\n",
    "- our summary will simply be the top scoring sentences\n",
    "\n",
    "### Sentence Splitting & TF-IDF\n",
    "- called sentence tokenization can be done with nltk:\n",
    "nltk.sent_tokenize(text)\n",
    "- then treat each as if they were a separate document\n",
    "- build TF-idf matrix\n",
    "- previously the rows were documents, now they're sentences, columns are still terms\n",
    "#### Scoring each sentence:\n",
    "- simplest way: average of non-zero values in each sentence\n",
    "- yani feature sayısına değil, non-zero olan term sayısına böl\n",
    "- why does it work? remember each component of tfidf vector tells us how often a specific term appears\n",
    "- so if a word appears in many sentences tfidf will shrink\n",
    "- unimpotant words thşs way will have a smaller value\n",
    "- why mean not sum? sum would be biased towards larger sentences\n",
    "#### What to do with scores?\n",
    "- idea: sort scores, pick the sentences with highest scores\n",
    "- multiple ways try and choose best\n",
    "- simplest : take top N sentences\n",
    "- also simple: top N words or top N characters if you have limt , ex : if you're building a search engine there is limited space for you to show your result summary\n",
    "- or top X% of sentences words\n",
    "- or you may define a theshold score, ex: average score, but can be too much\n",
    "- maybe threshold = average score * factor\n",
    "\n",
    "## Exercise Prompt\n",
    "- bbc dataset again\n",
    "- try it on multiple articles\n",
    "- spplit article into sentences\n",
    "- Tfidf matrix from sentences\n",
    "- score each sentence by takşng average\n",
    "- sort each sentence by score\n",
    "- filter out "
   ]
  },
  {
   "cell_type": "markdown",
   "id": "fa6cbd2f",
   "metadata": {},
   "source": [
    "### My solutions:"
   ]
  },
  {
   "cell_type": "code",
   "execution_count": 1,
   "id": "0872342d",
   "metadata": {},
   "outputs": [],
   "source": [
    "import numpy as np\n",
    "import pandas as pd\n",
    "\n",
    "import nltk\n",
    "from nltk.stem.porter import PorterStemmer \n",
    "from nltk import word_tokenize\n",
    "from sklearn.feature_extraction.text import CountVectorizer, TfidfVectorizer\n",
    "from sklearn.model_selection import train_test_split\n",
    "from sklearn.linear_model import LogisticRegression\n",
    "\n",
    "#bu dersin hocası Multinomial kullanıyo :/\n",
    "from sklearn.metrics import roc_auc_score, f1_score, confusion_matrix\n",
    "from sklearn.metrics import accuracy_score "
   ]
  },
  {
   "cell_type": "code",
   "execution_count": 2,
   "id": "2e4c1855",
   "metadata": {},
   "outputs": [
    {
     "name": "stderr",
     "output_type": "stream",
     "text": [
      "[nltk_data] Downloading package punkt to\n",
      "[nltk_data]     /Users/yagmuraslan/nltk_data...\n",
      "[nltk_data]   Package punkt is already up-to-date!\n",
      "[nltk_data] Downloading package stopwords to\n",
      "[nltk_data]     /Users/yagmuraslan/nltk_data...\n",
      "[nltk_data]   Unzipping corpora/stopwords.zip.\n"
     ]
    },
    {
     "data": {
      "text/plain": [
       "True"
      ]
     },
     "execution_count": 2,
     "metadata": {},
     "output_type": "execute_result"
    }
   ],
   "source": [
    "from nltk.stem import WordNetLemmatizer\n",
    "from nltk.corpus import stopwords\n",
    "nltk.download('punkt')\n",
    "nltk.download('stopwords')"
   ]
  },
  {
   "cell_type": "code",
   "execution_count": 3,
   "id": "086d3361",
   "metadata": {},
   "outputs": [
    {
     "name": "stdout",
     "output_type": "stream",
     "text": [
      "--2023-06-14 14:34:45--  https://lazyprogrammer.me/course_files/nlp/bbc_text_cls.csv\n",
      "Resolving lazyprogrammer.me (lazyprogrammer.me)... 172.67.213.166, 104.21.23.210\n",
      "Connecting to lazyprogrammer.me (lazyprogrammer.me)|172.67.213.166|:443... connected.\n",
      "HTTP request sent, awaiting response... 200 OK\n",
      "Length: 5085081 (4.8M) [text/csv]\n",
      "Saving to: 'bbc_text_cls.csv'\n",
      "\n",
      "bbc_text_cls.csv    100%[===================>]   4.85M  1.86MB/s    in 2.6s    \n",
      "\n",
      "2023-06-14 14:34:50 (1.86 MB/s) - 'bbc_text_cls.csv' saved [5085081/5085081]\n",
      "\n"
     ]
    }
   ],
   "source": [
    "# https://www.kaggle.com/shivamkushwaha/bbc-full-text-document-classification\n",
    "!wget -nc https://lazyprogrammer.me/course_files/nlp/bbc_text_cls.csv"
   ]
  },
  {
   "cell_type": "code",
   "execution_count": 5,
   "id": "ec3accf3",
   "metadata": {},
   "outputs": [
    {
     "data": {
      "text/html": [
       "<div>\n",
       "<style scoped>\n",
       "    .dataframe tbody tr th:only-of-type {\n",
       "        vertical-align: middle;\n",
       "    }\n",
       "\n",
       "    .dataframe tbody tr th {\n",
       "        vertical-align: top;\n",
       "    }\n",
       "\n",
       "    .dataframe thead th {\n",
       "        text-align: right;\n",
       "    }\n",
       "</style>\n",
       "<table border=\"1\" class=\"dataframe\">\n",
       "  <thead>\n",
       "    <tr style=\"text-align: right;\">\n",
       "      <th></th>\n",
       "      <th>text</th>\n",
       "      <th>labels</th>\n",
       "    </tr>\n",
       "  </thead>\n",
       "  <tbody>\n",
       "    <tr>\n",
       "      <th>0</th>\n",
       "      <td>Ad sales boost Time Warner profit\\n\\nQuarterly...</td>\n",
       "      <td>business</td>\n",
       "    </tr>\n",
       "    <tr>\n",
       "      <th>1</th>\n",
       "      <td>Dollar gains on Greenspan speech\\n\\nThe dollar...</td>\n",
       "      <td>business</td>\n",
       "    </tr>\n",
       "    <tr>\n",
       "      <th>2</th>\n",
       "      <td>Yukos unit buyer faces loan claim\\n\\nThe owner...</td>\n",
       "      <td>business</td>\n",
       "    </tr>\n",
       "    <tr>\n",
       "      <th>3</th>\n",
       "      <td>High fuel prices hit BA's profits\\n\\nBritish A...</td>\n",
       "      <td>business</td>\n",
       "    </tr>\n",
       "    <tr>\n",
       "      <th>4</th>\n",
       "      <td>Pernod takeover talk lifts Domecq\\n\\nShares in...</td>\n",
       "      <td>business</td>\n",
       "    </tr>\n",
       "  </tbody>\n",
       "</table>\n",
       "</div>"
      ],
      "text/plain": [
       "                                                text    labels\n",
       "0  Ad sales boost Time Warner profit\\n\\nQuarterly...  business\n",
       "1  Dollar gains on Greenspan speech\\n\\nThe dollar...  business\n",
       "2  Yukos unit buyer faces loan claim\\n\\nThe owner...  business\n",
       "3  High fuel prices hit BA's profits\\n\\nBritish A...  business\n",
       "4  Pernod takeover talk lifts Domecq\\n\\nShares in...  business"
      ]
     },
     "execution_count": 5,
     "metadata": {},
     "output_type": "execute_result"
    }
   ],
   "source": [
    "df = pd.read_csv('bbc_text_cls.csv')\n",
    "df.head()"
   ]
  },
  {
   "cell_type": "code",
   "execution_count": 89,
   "id": "71a9a507",
   "metadata": {},
   "outputs": [],
   "source": [
    "article = np.random.choice(df[\"text\"])"
   ]
  },
  {
   "cell_type": "code",
   "execution_count": 90,
   "id": "0c5c4d49",
   "metadata": {},
   "outputs": [
    {
     "data": {
      "text/plain": [
       "['Brussels raps mobile call charges\\n\\nThe European Commission has written to the mobile phone operators Vodafone and T-Mobile to challenge \"the high rates\" they charge for international roaming.',\n",
       " 'In letters sent to the two companies, the Commission alleged the firms were abusing their dominant market position in the German mobile phone market.',\n",
       " \"It is the second time Vodafone has come under the Commission's scrutiny.\",\n",
       " 'The UK operator is already appealing against allegations that its UK roaming rates are \"unfair and excessive\".',\n",
       " \"Vodafone's response to the Commission's letter was defiant.\",\n",
       " '\"We believe the roaming market is competitive and we expect to resist the charges,\" said a Vodafone spokesman.',\n",
       " '\"However we will need time to examine the statement of objections in detail before we formally respond.\"',\n",
       " \"The Commission's investigation into Vodafone and Deutsche Telekom's T-Mobile centres on the tariffs the two companies charge foreign mobile operators to access their networks when subscribers of those foreign operators use their mobile phones in Germany.\",\n",
       " 'The Commission believes these wholesale prices are too high and that the excess is passed on to consumers.',\n",
       " '\"The Commission aims to ensure that European consumers are not overcharged when they use their mobile phones on their travels around the European Union,\" the Commission said in a statement.',\n",
       " \"Vodafone and O2, Britain's other big mobile phone operator, were sent similar statements of objections by the Commission in July last year.\",\n",
       " 'Vodafone sent the Commission a response to those allegations in December last year and is now waiting for a reply.',\n",
       " 'The Vodafone spokesman said a similar process would be set in motion with these latest statement of objections about its operations in Germany.',\n",
       " 'The companies will have three months to respond to the Commission\\'s allegations and the process \"may go on for some time yet\", the spokesman said.',\n",
       " 'The Commission could charge the companies up to 10% of their annual turnover, though in practice that sort of figure is rarely demanded.',\n",
       " \"The Commission's latest move comes just a few months after national telecoms regulators across Europe launched a joint investigation which could lead to people being charged less for using their mobile phone when travelling abroad.\",\n",
       " 'The investigation involves regulators assessing whether there is effective competition in the roaming market.']"
      ]
     },
     "execution_count": 90,
     "metadata": {},
     "output_type": "execute_result"
    }
   ],
   "source": [
    "df2 = nltk.sent_tokenize(article)\n",
    "df2"
   ]
  },
  {
   "cell_type": "code",
   "execution_count": 91,
   "id": "b9828bf4",
   "metadata": {},
   "outputs": [
    {
     "data": {
      "text/plain": [
       "(17, 176)"
      ]
     },
     "execution_count": 91,
     "metadata": {},
     "output_type": "execute_result"
    }
   ],
   "source": [
    "vectorizer = TfidfVectorizer(max_features = 2000)\n",
    "Tfidf_matrix = vectorizer.fit_transform(df2)\n",
    "Tfidf_matrix.shape"
   ]
  },
  {
   "cell_type": "code",
   "execution_count": 92,
   "id": "bf780c5d",
   "metadata": {},
   "outputs": [],
   "source": [
    "scores = []\n",
    "for i in range(Tfidf_matrix.shape[0]):\n",
    "    score = Tfidf_matrix[i,:][Tfidf_matrix[i,:]!=0].mean()\n",
    "    scores.append(score)"
   ]
  },
  {
   "cell_type": "code",
   "execution_count": 93,
   "id": "34e1c1fd",
   "metadata": {},
   "outputs": [
    {
     "data": {
      "text/plain": [
       "[0.19994132833176456,\n",
       " 0.21976090204394835,\n",
       " 0.2910878344231112,\n",
       " 0.2323031631934066,\n",
       " 0.3272872917776975,\n",
       " 0.2413613513341671,\n",
       " 0.23462907933313298,\n",
       " 0.17222826036904718,\n",
       " 0.23460764343564638,\n",
       " 0.19605695778684437,\n",
       " 0.20576261432126783,\n",
       " 0.22506468991753328,\n",
       " 0.21371595211004196,\n",
       " 0.21343302648096493,\n",
       " 0.21015165229124375,\n",
       " 0.16995956087787353,\n",
       " 0.27118940091231314]"
      ]
     },
     "execution_count": 93,
     "metadata": {},
     "output_type": "execute_result"
    }
   ],
   "source": [
    "scores"
   ]
  },
  {
   "cell_type": "code",
   "execution_count": 94,
   "id": "c4d3e89c",
   "metadata": {},
   "outputs": [
    {
     "data": {
      "text/plain": [
       "17"
      ]
     },
     "execution_count": 94,
     "metadata": {},
     "output_type": "execute_result"
    }
   ],
   "source": [
    "len(scores)"
   ]
  },
  {
   "cell_type": "code",
   "execution_count": 95,
   "id": "78bfaa84",
   "metadata": {},
   "outputs": [
    {
     "data": {
      "text/plain": [
       "0     0.199941\n",
       "1     0.219761\n",
       "2     0.291088\n",
       "3     0.232303\n",
       "4     0.327287\n",
       "5     0.241361\n",
       "6     0.234629\n",
       "7     0.172228\n",
       "8     0.234608\n",
       "9     0.196057\n",
       "10    0.205763\n",
       "11    0.225065\n",
       "12    0.213716\n",
       "13    0.213433\n",
       "14    0.210152\n",
       "15    0.169960\n",
       "16    0.271189\n",
       "dtype: float64"
      ]
     },
     "execution_count": 95,
     "metadata": {},
     "output_type": "execute_result"
    }
   ],
   "source": [
    "scores2idx = pd.Series(scores)\n",
    "scores2idx"
   ]
  },
  {
   "cell_type": "code",
   "execution_count": 96,
   "id": "a1c5f153",
   "metadata": {},
   "outputs": [
    {
     "name": "stdout",
     "output_type": "stream",
     "text": [
      "It is the second time Vodafone has come under the Commission's scrutiny. The UK operator is already appealing against allegations that its UK roaming rates are \"unfair and excessive\". Vodafone's response to the Commission's letter was defiant. \"We believe the roaming market is competitive and we expect to resist the charges,\" said a Vodafone spokesman. \"However we will need time to examine the statement of objections in detail before we formally respond.\" The Commission believes these wholesale prices are too high and that the excess is passed on to consumers. Vodafone sent the Commission a response to those allegations in December last year and is now waiting for a reply. The investigation involves regulators assessing whether there is effective competition in the roaming market.\n"
     ]
    }
   ],
   "source": [
    "# ex: top 8 sentence:\n",
    "\n",
    "indices = scores2idx.nlargest(8)\n",
    "summary = []\n",
    "for i in range(len(df2)):\n",
    "    if i in indices.index:\n",
    "        summary.append(df2[i])\n",
    "        \n",
    "print(\" \".join(summary))    "
   ]
  },
  {
   "cell_type": "code",
   "execution_count": 97,
   "id": "41d49394",
   "metadata": {},
   "outputs": [
    {
     "name": "stdout",
     "output_type": "stream",
     "text": [
      "It is the second time Vodafone has come under the Commission's scrutiny. Vodafone's response to the Commission's letter was defiant. \"We believe the roaming market is competitive and we expect to resist the charges,\" said a Vodafone spokesman. \"However we will need time to examine the statement of objections in detail before we formally respond.\" The investigation involves regulators assessing whether there is effective competition in the roaming market.\n"
     ]
    }
   ],
   "source": [
    "#top 30 % of the sentences\n",
    "\n",
    "indices = scores2idx.nlargest(int(len(scores2idx) * 0.3))\n",
    "summary = []\n",
    "for i in range(len(df2)):\n",
    "    if i in indices.index:\n",
    "        summary.append(df2[i])\n",
    "        \n",
    "print(\" \".join(summary))  "
   ]
  },
  {
   "cell_type": "markdown",
   "id": "0207f0c1",
   "metadata": {},
   "source": [
    "#### hoca benden farklı olarak title'ları ayırdı, tfidf te stopwords ve normalization kullandı, genel bi fonksiyon def tanımladı."
   ]
  },
  {
   "cell_type": "code",
   "execution_count": null,
   "id": "0c3c2ae4",
   "metadata": {},
   "outputs": [],
   "source": []
  }
 ],
 "metadata": {
  "kernelspec": {
   "display_name": "Python 3 (ipykernel)",
   "language": "python",
   "name": "python3"
  },
  "language_info": {
   "codemirror_mode": {
    "name": "ipython",
    "version": 3
   },
   "file_extension": ".py",
   "mimetype": "text/x-python",
   "name": "python",
   "nbconvert_exporter": "python",
   "pygments_lexer": "ipython3",
   "version": "3.9.13"
  }
 },
 "nbformat": 4,
 "nbformat_minor": 5
}
