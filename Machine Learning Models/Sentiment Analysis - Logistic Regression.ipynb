{
 "cells": [
  {
   "cell_type": "markdown",
   "id": "ce002f5e",
   "metadata": {},
   "source": [
    "# Sentiment Analysis - Logistic Regression\n",
    "\n",
    "- typically we consider sentiment analysis as a classification task,\n",
    "- there can be two or more categories: positive vs negative or positive/very positive/ negative/ neutral...\n",
    "\n",
    "- Interesting in recommender systems, when we deal with ratings for moveies, hotels etc, we treat them in regression analysis, why not here? why we treat with classification in sentiment analysis?\n",
    "- adam bana kalsa ben regression'a sokarım diyo\n",
    "\n",
    "### usefulness of sentiment analysis:\n",
    "- reputation management looking at social media\n",
    "- you wanna automatically read reviews at fb, tweets, post about your company\n",
    "- you can pass it to analyzer to report sentiment statistics\n",
    "- take action basec on it\n",
    "- you may also wonder sentiments on your competitor\n",
    "- deciding response based on customer's sentiment\n",
    "\n",
    "## Logistic Regression\n",
    "- Naive bayes was a model built on probability\n",
    "- logistic regression is based on vectors\n",
    "- Terminology: w1* x1 + w2 * x2 + b = 0 \n",
    "- w1 & w2 are called weights\n",
    "- b is called bias\n",
    "- logistic regression can be thought as a neuron, which is the basic building block of NN\n",
    "- Generalize: Activation a(x) = 0 on the line\n",
    "- a(x) > 0 ; one side of the line\n",
    "- a(x) < 0 ; the other side of the line\n",
    "- denklemi eşit sayıyla çarptığında sonuç değişmez ve aynı çizgidir which means an infitite number of weights and biases can represent the same boundary\n",
    "\n",
    "- a much more compact way to write for multidimensional \n",
    "- a(x) = ∑ wi * xi + b  i: 1'den D'ye. or a(x) =  w^T * x + b\n",
    "- since there must be a w for every component x, w is also a vector size of D.\n",
    "- hence wi * xi is a dot product w^T is the transpose of w-vector.\n",
    "\n",
    "#### so far we described a generic linear classifier:\n",
    "- what makes it logistic regression ? - logistic function !\n",
    "- logistic regression aka Sigmoid function\n",
    "- ö(x) = 1 / (1 + exp(-x)) when input is infinit, ö approaches to 1, when to -infinity; approaches to zero\n",
    "- hence output always btw zero and one\n",
    "- it wallows us to interpret the output as a probabiltiy\n",
    "- p(y=1|x) = ö(w^T * x + b)\n",
    "- why care about probs?\n",
    "- compute metrics like AUC, even sample from this distribution (common for NNs)\n",
    "- Decision rule: prediction rounds 0.5'dan, 0.5 da ikisi de olbailir genelde bire yuvarlanır\n",
    "\n",
    "### Modifying the threshold:\n",
    "- remember: ROC is formed by tracing out TPR / FPR ratio.\n",
    "- separating boundary is 50% but we can change our threshold\n",
    "- e.g. 30% => more true positives but more false positives as well\n",
    "- or if you have too mny false positives => increase the threshold\n",
    "\n",
    "### Compare Logistic Regression with Naive Bayes\n",
    "- Generative vs Discriminative Models\n",
    "- Logistic : directly models p(y|x) this is what we call discriminative (nalaka? it discriminates btw different classes of y directly\n",
    "- Naive Bayes: models p(x|y) , indirectly models p(y|x) it's genertive bcz once we have p(x|y) we can actually generate samples from that distribution\n",
    "- kulağa saçma gerekebikir why would I wanna generate X?\n",
    "- let's thşnk concreete example, image recognition, X is image and y is label to recognze\n",
    "- if we model is x|y, we can generate random images from a given class\n",
    "- one modern example of generating samples is GANs (given the class cat generates the image of cat) #class galiba burda kategori anlamında\n",
    "- or state-of-art generative models for images\n",
    "- çok anlamadım yaa...\n",
    "\n",
    "\n",
    "## Multiclass Logistic Regression\n",
    "- other names: Multinomial Logistic Regression, Maximum Entropy Classifier\n",
    "- relevant for the dataset we'll be looking at\n",
    "- suppose we have K classes (again kategori), then there will be K weight vectors (each of which are a D-size vector)\n",
    "- suppose we also have K bias\n",
    "- then we can write K activation functions that gives us a1, a2... aK\n",
    "- The Softmax function: softmax(aK) = exp(aK) / ∑ exp(aj) for j = 1...K\n",
    "- Interpretation: p(y=1|x) = softmax(ak)\n",
    "- Sigmoid function is for the binary case while softmax is for multiclass case, it converts activation function into a probability distribiuton in the multiclass case\n",
    "\n",
    "#### Model Output:\n",
    "- for each of our N samples we get K probs that sum to 1\n",
    "- overall output is a matrix NxK\n",
    "- also what we get when we call model.predict_proba() in sklearn\n",
    "- what if we want actual class predictions instead of probabilities?\n",
    "- Take the argmax over all probabilities for a given sample, yields a 1-d array of class labels for each k sample\n",
    "- burda sample'dan kasıt ne\n",
    "\n",
    "#### Bence bunu daha iyi anlatan video vardır.\n",
    "\n"
   ]
  },
  {
   "cell_type": "raw",
   "id": "580c17c7",
   "metadata": {},
   "source": [
    "model = LogisticRegression(max_iter = 500) #optional parameter, note: training log-regression is an itiretive process\n",
    "# for some datasets you need more iterations than default, try and test\n",
    "model.fit(X_train,Y_train)\n",
    "\n",
    "model.predict(X_test) #returns 1-d array of length N with integers from 0 to K-1 (that corresponds to categories)\n",
    "\n",
    "model.predict_proba(X_test) #returns NxK 2-d array of probabilities"
   ]
  },
  {
   "cell_type": "markdown",
   "id": "460e3756",
   "metadata": {},
   "source": [
    "### interpret the weights in a binary case\n",
    "- one advantage of logistic regression is it's very easy to interpret once you have the model weights and biases\n",
    "- assumption: all input features X are non-negtaive (easy yo meet in NLP since they're word counts)\n",
    "- the other cases these interprets still apply but consider in negative\n",
    "- let's think w1 is positive and large; makes the activation larger\n",
    "- şöyle düşün a(x) > 0 ise output'u 1'e yaklaştırıyo ve x positif iken büyük bi weight sonucun sıfırı geçmesini kolaylaştrır, outputu bire yakalştırma hikayresini tam anlamı:\n",
    "- sigmoid functionın solunda x -sonsuza fonksiyon sıfıra yaklaşıyo, sağında ise aktivasyon büyüdükçe maksimum değeri bire yaklaşıyo\n",
    "- large positive weights corresponf to large positive influence on output being 1.\n",
    "- large negative weights bring activation down, closer to negative infinity, correspond to large negtive influence on output being zero, if the magnitude of this weight small, smaller than the positive one, will have less an effect\n",
    "#### magnitude and sign of weight both matter\n",
    "A positive weight tells us a larger value of input feature is correlated to a positive class\n",
    "A negative weight tells us a larger value of input feature is correlated to a negative class\n",
    "A weight of large magnitude says this input matters a lot in predicting the output vşce versa\n",
    "- eee multiple output class varsa annem ? \n",
    "\n",
    "### Multiclass case:\n",
    "- interpretation largely the same, just seem more compl, since we've more wirght and they sprt of interact with each other due to the softmax\n",
    "- Interpret the weights as MATRIX\n",
    "- all weights are D-length vectors, w1 to wK D sanırım number of inputs\n",
    "- stacking them yields DxK matrix, i.e. a(x) = W^T x + b (tek modelde gösterimi) W bahsi geçen matrix ; D rows olduğu için transpozsinde X ile multiply edilebilir mantıklı\n",
    "- if W[d,k] is large and positive, it will make the kth activation more positvie (by a large amount) ,  neden çünkü çarpma işlemi sırasında xd ile çaprılıp kth output'un toplamına contribute edecek,\n",
    "- anlaadıysan lineer algebra çarpma yöntemini hatırla: çarpımın sonucu k-rows 1 column matrix çıkacak, kth rowdaki her data, wk sütunundaki weightlerin Xlerle çarpımının toplamı\n",
    "#### Interpetation: Input feature d has a positive correlation with the output being K, magitude matters in pretty mıch same way (73.ders)"
   ]
  },
  {
   "cell_type": "markdown",
   "id": "077ff43f",
   "metadata": {},
   "source": [
    "## Exercise Prompt : My solution\n",
    "- dataset : tweets, positive, negative and neutral\n",
    "- build a classifier , test-train split, measure accuracy on both sets\n",
    "- comes with irrelevant columsn\n",
    "### Details:\n",
    "- decide your vectorization strategy\n",
    "- options: tokenization, lemmatization, normalization\n",
    "- use logistic regression\n",
    "- check class imbalance, use appropriate metrics (AUC or F1)\n",
    "- plot confusion matrix\n",
    "- AUC n F1 are not designed for multiclass problems but sklearn has a way to make them work\n",
    "\n",
    "### further instructions: \n",
    "- build another classifier binary positive and negaitve only\n",
    "- this will greatly improve results makes sense since neutral class is in between, we're likely to confuse neutral with neighborsing classes\n",
    "- interpret the weights by printing out words with most corresponding positive and negative weights"
   ]
  },
  {
   "cell_type": "code",
   "execution_count": 1,
   "id": "04fad7a6",
   "metadata": {},
   "outputs": [],
   "source": [
    "import numpy as np\n",
    "import pandas as pd\n",
    "import seaborn as sn\n",
    "import matplotlib.pyplot as plt\n",
    "import nltk #kirill'de bunla yaptık\n",
    "from nltk.stem.porter import PorterStemmer #kirill\n",
    "from nltk import word_tokenize\n",
    "from sklearn.feature_extraction.text import CountVectorizer, TfidfVectorizer\n",
    "from sklearn.model_selection import train_test_split\n",
    "from sklearn.linear_model import LogisticRegression\n",
    "\n",
    "#bu dersin hocası Multinomial kullanıyo :/\n",
    "from sklearn.metrics import roc_auc_score, f1_score, confusion_matrix\n",
    "from sklearn.metrics import accuracy_score #kirill"
   ]
  },
  {
   "cell_type": "code",
   "execution_count": 2,
   "id": "3766b4fb",
   "metadata": {},
   "outputs": [
    {
     "name": "stdout",
     "output_type": "stream",
     "text": [
      "--2023-06-13 23:43:04--  https://lazyprogrammer.me/course_files/AirlineTweets.csv\n",
      "Resolving lazyprogrammer.me (lazyprogrammer.me)... 104.21.23.210, 172.67.213.166\n",
      "Connecting to lazyprogrammer.me (lazyprogrammer.me)|104.21.23.210|:443... connected.\n",
      "HTTP request sent, awaiting response... 200 OK\n",
      "Length: 3421431 (3.3M) [text/csv]\n",
      "Saving to: 'AirlineTweets.csv'\n",
      "\n",
      "AirlineTweets.csv   100%[===================>]   3.26M  13.0MB/s    in 0.3s    \n",
      "\n",
      "2023-06-13 23:43:08 (13.0 MB/s) - 'AirlineTweets.csv' saved [3421431/3421431]\n",
      "\n"
     ]
    }
   ],
   "source": [
    "# https://www.kaggle.com/crowdflower/twitter-airline-sentiment\n",
    "!wget -nc https://lazyprogrammer.me/course_files/AirlineTweets.csv"
   ]
  },
  {
   "cell_type": "code",
   "execution_count": 3,
   "id": "81dce4b7",
   "metadata": {},
   "outputs": [
    {
     "data": {
      "text/html": [
       "<div>\n",
       "<style scoped>\n",
       "    .dataframe tbody tr th:only-of-type {\n",
       "        vertical-align: middle;\n",
       "    }\n",
       "\n",
       "    .dataframe tbody tr th {\n",
       "        vertical-align: top;\n",
       "    }\n",
       "\n",
       "    .dataframe thead th {\n",
       "        text-align: right;\n",
       "    }\n",
       "</style>\n",
       "<table border=\"1\" class=\"dataframe\">\n",
       "  <thead>\n",
       "    <tr style=\"text-align: right;\">\n",
       "      <th></th>\n",
       "      <th>tweet_id</th>\n",
       "      <th>airline_sentiment</th>\n",
       "      <th>airline_sentiment_confidence</th>\n",
       "      <th>negativereason</th>\n",
       "      <th>negativereason_confidence</th>\n",
       "      <th>airline</th>\n",
       "      <th>airline_sentiment_gold</th>\n",
       "      <th>name</th>\n",
       "      <th>negativereason_gold</th>\n",
       "      <th>retweet_count</th>\n",
       "      <th>text</th>\n",
       "      <th>tweet_coord</th>\n",
       "      <th>tweet_created</th>\n",
       "      <th>tweet_location</th>\n",
       "      <th>user_timezone</th>\n",
       "    </tr>\n",
       "  </thead>\n",
       "  <tbody>\n",
       "    <tr>\n",
       "      <th>0</th>\n",
       "      <td>570306133677760513</td>\n",
       "      <td>neutral</td>\n",
       "      <td>1.0000</td>\n",
       "      <td>NaN</td>\n",
       "      <td>NaN</td>\n",
       "      <td>Virgin America</td>\n",
       "      <td>NaN</td>\n",
       "      <td>cairdin</td>\n",
       "      <td>NaN</td>\n",
       "      <td>0</td>\n",
       "      <td>@VirginAmerica What @dhepburn said.</td>\n",
       "      <td>NaN</td>\n",
       "      <td>2015-02-24 11:35:52 -0800</td>\n",
       "      <td>NaN</td>\n",
       "      <td>Eastern Time (US &amp; Canada)</td>\n",
       "    </tr>\n",
       "    <tr>\n",
       "      <th>1</th>\n",
       "      <td>570301130888122368</td>\n",
       "      <td>positive</td>\n",
       "      <td>0.3486</td>\n",
       "      <td>NaN</td>\n",
       "      <td>0.0000</td>\n",
       "      <td>Virgin America</td>\n",
       "      <td>NaN</td>\n",
       "      <td>jnardino</td>\n",
       "      <td>NaN</td>\n",
       "      <td>0</td>\n",
       "      <td>@VirginAmerica plus you've added commercials t...</td>\n",
       "      <td>NaN</td>\n",
       "      <td>2015-02-24 11:15:59 -0800</td>\n",
       "      <td>NaN</td>\n",
       "      <td>Pacific Time (US &amp; Canada)</td>\n",
       "    </tr>\n",
       "    <tr>\n",
       "      <th>2</th>\n",
       "      <td>570301083672813571</td>\n",
       "      <td>neutral</td>\n",
       "      <td>0.6837</td>\n",
       "      <td>NaN</td>\n",
       "      <td>NaN</td>\n",
       "      <td>Virgin America</td>\n",
       "      <td>NaN</td>\n",
       "      <td>yvonnalynn</td>\n",
       "      <td>NaN</td>\n",
       "      <td>0</td>\n",
       "      <td>@VirginAmerica I didn't today... Must mean I n...</td>\n",
       "      <td>NaN</td>\n",
       "      <td>2015-02-24 11:15:48 -0800</td>\n",
       "      <td>Lets Play</td>\n",
       "      <td>Central Time (US &amp; Canada)</td>\n",
       "    </tr>\n",
       "    <tr>\n",
       "      <th>3</th>\n",
       "      <td>570301031407624196</td>\n",
       "      <td>negative</td>\n",
       "      <td>1.0000</td>\n",
       "      <td>Bad Flight</td>\n",
       "      <td>0.7033</td>\n",
       "      <td>Virgin America</td>\n",
       "      <td>NaN</td>\n",
       "      <td>jnardino</td>\n",
       "      <td>NaN</td>\n",
       "      <td>0</td>\n",
       "      <td>@VirginAmerica it's really aggressive to blast...</td>\n",
       "      <td>NaN</td>\n",
       "      <td>2015-02-24 11:15:36 -0800</td>\n",
       "      <td>NaN</td>\n",
       "      <td>Pacific Time (US &amp; Canada)</td>\n",
       "    </tr>\n",
       "    <tr>\n",
       "      <th>4</th>\n",
       "      <td>570300817074462722</td>\n",
       "      <td>negative</td>\n",
       "      <td>1.0000</td>\n",
       "      <td>Can't Tell</td>\n",
       "      <td>1.0000</td>\n",
       "      <td>Virgin America</td>\n",
       "      <td>NaN</td>\n",
       "      <td>jnardino</td>\n",
       "      <td>NaN</td>\n",
       "      <td>0</td>\n",
       "      <td>@VirginAmerica and it's a really big bad thing...</td>\n",
       "      <td>NaN</td>\n",
       "      <td>2015-02-24 11:14:45 -0800</td>\n",
       "      <td>NaN</td>\n",
       "      <td>Pacific Time (US &amp; Canada)</td>\n",
       "    </tr>\n",
       "  </tbody>\n",
       "</table>\n",
       "</div>"
      ],
      "text/plain": [
       "             tweet_id airline_sentiment  airline_sentiment_confidence  \\\n",
       "0  570306133677760513           neutral                        1.0000   \n",
       "1  570301130888122368          positive                        0.3486   \n",
       "2  570301083672813571           neutral                        0.6837   \n",
       "3  570301031407624196          negative                        1.0000   \n",
       "4  570300817074462722          negative                        1.0000   \n",
       "\n",
       "  negativereason  negativereason_confidence         airline  \\\n",
       "0            NaN                        NaN  Virgin America   \n",
       "1            NaN                     0.0000  Virgin America   \n",
       "2            NaN                        NaN  Virgin America   \n",
       "3     Bad Flight                     0.7033  Virgin America   \n",
       "4     Can't Tell                     1.0000  Virgin America   \n",
       "\n",
       "  airline_sentiment_gold        name negativereason_gold  retweet_count  \\\n",
       "0                    NaN     cairdin                 NaN              0   \n",
       "1                    NaN    jnardino                 NaN              0   \n",
       "2                    NaN  yvonnalynn                 NaN              0   \n",
       "3                    NaN    jnardino                 NaN              0   \n",
       "4                    NaN    jnardino                 NaN              0   \n",
       "\n",
       "                                                text tweet_coord  \\\n",
       "0                @VirginAmerica What @dhepburn said.         NaN   \n",
       "1  @VirginAmerica plus you've added commercials t...         NaN   \n",
       "2  @VirginAmerica I didn't today... Must mean I n...         NaN   \n",
       "3  @VirginAmerica it's really aggressive to blast...         NaN   \n",
       "4  @VirginAmerica and it's a really big bad thing...         NaN   \n",
       "\n",
       "               tweet_created tweet_location               user_timezone  \n",
       "0  2015-02-24 11:35:52 -0800            NaN  Eastern Time (US & Canada)  \n",
       "1  2015-02-24 11:15:59 -0800            NaN  Pacific Time (US & Canada)  \n",
       "2  2015-02-24 11:15:48 -0800      Lets Play  Central Time (US & Canada)  \n",
       "3  2015-02-24 11:15:36 -0800            NaN  Pacific Time (US & Canada)  \n",
       "4  2015-02-24 11:14:45 -0800            NaN  Pacific Time (US & Canada)  "
      ]
     },
     "execution_count": 3,
     "metadata": {},
     "output_type": "execute_result"
    }
   ],
   "source": [
    "df = pd.read_csv('AirlineTweets.csv')\n",
    "df.head()"
   ]
  },
  {
   "cell_type": "code",
   "execution_count": 4,
   "id": "fbee9735",
   "metadata": {},
   "outputs": [
    {
     "data": {
      "text/html": [
       "<div>\n",
       "<style scoped>\n",
       "    .dataframe tbody tr th:only-of-type {\n",
       "        vertical-align: middle;\n",
       "    }\n",
       "\n",
       "    .dataframe tbody tr th {\n",
       "        vertical-align: top;\n",
       "    }\n",
       "\n",
       "    .dataframe thead th {\n",
       "        text-align: right;\n",
       "    }\n",
       "</style>\n",
       "<table border=\"1\" class=\"dataframe\">\n",
       "  <thead>\n",
       "    <tr style=\"text-align: right;\">\n",
       "      <th></th>\n",
       "      <th>airline_sentiment</th>\n",
       "      <th>text</th>\n",
       "    </tr>\n",
       "  </thead>\n",
       "  <tbody>\n",
       "    <tr>\n",
       "      <th>0</th>\n",
       "      <td>neutral</td>\n",
       "      <td>@VirginAmerica What @dhepburn said.</td>\n",
       "    </tr>\n",
       "    <tr>\n",
       "      <th>1</th>\n",
       "      <td>positive</td>\n",
       "      <td>@VirginAmerica plus you've added commercials t...</td>\n",
       "    </tr>\n",
       "    <tr>\n",
       "      <th>2</th>\n",
       "      <td>neutral</td>\n",
       "      <td>@VirginAmerica I didn't today... Must mean I n...</td>\n",
       "    </tr>\n",
       "    <tr>\n",
       "      <th>3</th>\n",
       "      <td>negative</td>\n",
       "      <td>@VirginAmerica it's really aggressive to blast...</td>\n",
       "    </tr>\n",
       "    <tr>\n",
       "      <th>4</th>\n",
       "      <td>negative</td>\n",
       "      <td>@VirginAmerica and it's a really big bad thing...</td>\n",
       "    </tr>\n",
       "  </tbody>\n",
       "</table>\n",
       "</div>"
      ],
      "text/plain": [
       "  airline_sentiment                                               text\n",
       "0           neutral                @VirginAmerica What @dhepburn said.\n",
       "1          positive  @VirginAmerica plus you've added commercials t...\n",
       "2           neutral  @VirginAmerica I didn't today... Must mean I n...\n",
       "3          negative  @VirginAmerica it's really aggressive to blast...\n",
       "4          negative  @VirginAmerica and it's a really big bad thing..."
      ]
     },
     "execution_count": 4,
     "metadata": {},
     "output_type": "execute_result"
    }
   ],
   "source": [
    "df = df[[\"airline_sentiment\", \"text\"]]\n",
    "df.head()"
   ]
  },
  {
   "cell_type": "code",
   "execution_count": 29,
   "id": "75777829",
   "metadata": {},
   "outputs": [],
   "source": [
    "labels = df[\"airline_sentiment\"]\n",
    "texts = df[\"text\"]"
   ]
  },
  {
   "cell_type": "code",
   "execution_count": 40,
   "id": "bbdc868c",
   "metadata": {},
   "outputs": [
    {
     "data": {
      "text/plain": [
       "<AxesSubplot:>"
      ]
     },
     "execution_count": 40,
     "metadata": {},
     "output_type": "execute_result"
    },
    {
     "data": {
      "image/png": "[encoded data removed]",
      "text/plain": [
       "<Figure size 640x480 with 1 Axes>"
      ]
     },
     "metadata": {},
     "output_type": "display_data"
    }
   ],
   "source": [
    "labels.hist()"
   ]
  },
  {
   "cell_type": "code",
   "execution_count": 33,
   "id": "6d19cf30",
   "metadata": {},
   "outputs": [],
   "source": [
    "texts_train, texts_test, Y_train, Y_test = train_test_split(texts,labels)"
   ]
  },
  {
   "cell_type": "code",
   "execution_count": 34,
   "id": "0629b178",
   "metadata": {},
   "outputs": [
    {
     "data": {
      "text/plain": [
       "3474     @united I did not.  That's why I am VERY conce...\n",
       "12922    @AmericanAir yes, it says it should be deliver...\n",
       "10737    @USAirways @AmericanAir terminal E in Miami is...\n",
       "13899    @AmericanAir I'm willing to hold for an agent....\n",
       "2995             @united good fly!! #United #businessFirst\n",
       "                               ...                        \n",
       "14246    @AmericanAir my flight has been delayed &amp; ...\n",
       "12854    @AmericanAir We've sent you more info via DM. ...\n",
       "13830    @AmericanAir how nice it would be if you had h...\n",
       "2668     @united my flight landed 50 min, but we are be...\n",
       "11281    @USAirways : i have been trying to reach divid...\n",
       "Name: text, Length: 10980, dtype: object"
      ]
     },
     "execution_count": 34,
     "metadata": {},
     "output_type": "execute_result"
    }
   ],
   "source": [
    "texts_train"
   ]
  },
  {
   "cell_type": "code",
   "execution_count": 35,
   "id": "cb0df82c",
   "metadata": {},
   "outputs": [
    {
     "data": {
      "text/plain": [
       "pandas.core.series.Series"
      ]
     },
     "execution_count": 35,
     "metadata": {},
     "output_type": "execute_result"
    }
   ],
   "source": [
    "type(texts_train)"
   ]
  },
  {
   "cell_type": "code",
   "execution_count": 36,
   "id": "b7349d80",
   "metadata": {},
   "outputs": [
    {
     "name": "stdout",
     "output_type": "stream",
     "text": [
      "train score: 0.9622040072859745\n",
      "test score: 0.812568306010929\n"
     ]
    },
    {
     "name": "stderr",
     "output_type": "stream",
     "text": [
      "/opt/anaconda3/lib/python3.9/site-packages/sklearn/linear_model/_logistic.py:814: ConvergenceWarning: lbfgs failed to converge (status=1):\n",
      "STOP: TOTAL NO. of ITERATIONS REACHED LIMIT.\n",
      "\n",
      "Increase the number of iterations (max_iter) or scale the data as shown in:\n",
      "    https://scikit-learn.org/stable/modules/preprocessing.html\n",
      "Please also refer to the documentation for alternative solver options:\n",
      "    https://scikit-learn.org/stable/modules/linear_model.html#logistic-regression\n",
      "  n_iter_i = _check_optimize_result(\n"
     ]
    }
   ],
   "source": [
    "## with word_tokenize:\n",
    "\n",
    "vectorizer = CountVectorizer(tokenizer = word_tokenize)\n",
    "X_train = vectorizer.fit_transform(texts_train)\n",
    "X_test = vectorizer.transform(texts_test)\n",
    "\n",
    "classifier = LogisticRegression()\n",
    "classifier.fit(X_train, Y_train)\n",
    "\n",
    "print(\"train score:\", classifier.score(X_train, Y_train))\n",
    "print(\"test score:\", classifier.score(X_test, Y_test))"
   ]
  },
  {
   "cell_type": "code",
   "execution_count": 46,
   "id": "3b9b9932",
   "metadata": {},
   "outputs": [
    {
     "name": "stdout",
     "output_type": "stream",
     "text": [
      "train score: 0.9570127504553734\n",
      "test score: 0.8002732240437158\n",
      "train F1: 0.966641923221443\n",
      "test F1: 0.842713438465106\n"
     ]
    },
    {
     "ename": "AxisError",
     "evalue": "axis 1 is out of bounds for array of dimension 1",
     "output_type": "error",
     "traceback": [
      "\u001b[0;31m---------------------------------------------------------------------------\u001b[0m",
      "\u001b[0;31mAxisError\u001b[0m                                 Traceback (most recent call last)",
      "\u001b[0;32m/var/folders/5d/9bnp6m5d7db0pky3235l4wgh0000gn/T/ipykernel_1906/2054574777.py\u001b[0m in \u001b[0;36m<module>\u001b[0;34m\u001b[0m\n\u001b[1;32m     12\u001b[0m \u001b[0mProb_train\u001b[0m \u001b[0;34m=\u001b[0m \u001b[0mclassifier\u001b[0m\u001b[0;34m.\u001b[0m\u001b[0mpredict_proba\u001b[0m\u001b[0;34m(\u001b[0m\u001b[0mX_train\u001b[0m\u001b[0;34m)\u001b[0m\u001b[0;34m[\u001b[0m\u001b[0;34m:\u001b[0m\u001b[0;34m,\u001b[0m\u001b[0;36m1\u001b[0m\u001b[0;34m]\u001b[0m\u001b[0;34m\u001b[0m\u001b[0;34m\u001b[0m\u001b[0m\n\u001b[1;32m     13\u001b[0m \u001b[0mProb_test\u001b[0m \u001b[0;34m=\u001b[0m \u001b[0mclassifier\u001b[0m\u001b[0;34m.\u001b[0m\u001b[0mpredict_proba\u001b[0m\u001b[0;34m(\u001b[0m\u001b[0mX_test\u001b[0m\u001b[0;34m)\u001b[0m\u001b[0;34m[\u001b[0m\u001b[0;34m:\u001b[0m\u001b[0;34m,\u001b[0m\u001b[0;36m1\u001b[0m\u001b[0;34m]\u001b[0m\u001b[0;34m\u001b[0m\u001b[0;34m\u001b[0m\u001b[0m\n\u001b[0;32m---> 14\u001b[0;31m \u001b[0mprint\u001b[0m\u001b[0;34m(\u001b[0m\u001b[0;34m\"train AUC:\"\u001b[0m\u001b[0;34m,\u001b[0m \u001b[0mroc_auc_score\u001b[0m\u001b[0;34m(\u001b[0m\u001b[0mY_train\u001b[0m\u001b[0;34m,\u001b[0m \u001b[0mProb_train\u001b[0m\u001b[0;34m,\u001b[0m \u001b[0mmulti_class\u001b[0m \u001b[0;34m=\u001b[0m \u001b[0;34m\"ovr\"\u001b[0m\u001b[0;34m)\u001b[0m\u001b[0;34m)\u001b[0m\u001b[0;34m\u001b[0m\u001b[0;34m\u001b[0m\u001b[0m\n\u001b[0m\u001b[1;32m     15\u001b[0m \u001b[0mprint\u001b[0m\u001b[0;34m(\u001b[0m\u001b[0;34m\"test AUC:\"\u001b[0m\u001b[0;34m,\u001b[0m \u001b[0mroc_auc_score\u001b[0m\u001b[0;34m(\u001b[0m\u001b[0mY_test\u001b[0m\u001b[0;34m,\u001b[0m \u001b[0mProb_test\u001b[0m\u001b[0;34m,\u001b[0m \u001b[0mmulti_class\u001b[0m \u001b[0;34m=\u001b[0m \u001b[0;34m\"ovr\"\u001b[0m\u001b[0;34m)\u001b[0m\u001b[0;34m)\u001b[0m\u001b[0;34m\u001b[0m\u001b[0;34m\u001b[0m\u001b[0m\n",
      "\u001b[0;32m/opt/anaconda3/lib/python3.9/site-packages/sklearn/metrics/_ranking.py\u001b[0m in \u001b[0;36mroc_auc_score\u001b[0;34m(y_true, y_score, average, sample_weight, max_fpr, multi_class, labels)\u001b[0m\n\u001b[1;32m    559\u001b[0m         \u001b[0;32mif\u001b[0m \u001b[0mmulti_class\u001b[0m \u001b[0;34m==\u001b[0m \u001b[0;34m\"raise\"\u001b[0m\u001b[0;34m:\u001b[0m\u001b[0;34m\u001b[0m\u001b[0;34m\u001b[0m\u001b[0m\n\u001b[1;32m    560\u001b[0m             \u001b[0;32mraise\u001b[0m \u001b[0mValueError\u001b[0m\u001b[0;34m(\u001b[0m\u001b[0;34m\"multi_class must be in ('ovo', 'ovr')\"\u001b[0m\u001b[0;34m)\u001b[0m\u001b[0;34m\u001b[0m\u001b[0;34m\u001b[0m\u001b[0m\n\u001b[0;32m--> 561\u001b[0;31m         return _multiclass_roc_auc_score(\n\u001b[0m\u001b[1;32m    562\u001b[0m             \u001b[0my_true\u001b[0m\u001b[0;34m,\u001b[0m \u001b[0my_score\u001b[0m\u001b[0;34m,\u001b[0m \u001b[0mlabels\u001b[0m\u001b[0;34m,\u001b[0m \u001b[0mmulti_class\u001b[0m\u001b[0;34m,\u001b[0m \u001b[0maverage\u001b[0m\u001b[0;34m,\u001b[0m \u001b[0msample_weight\u001b[0m\u001b[0;34m\u001b[0m\u001b[0;34m\u001b[0m\u001b[0m\n\u001b[1;32m    563\u001b[0m         )\n",
      "\u001b[0;32m/opt/anaconda3/lib/python3.9/site-packages/sklearn/metrics/_ranking.py\u001b[0m in \u001b[0;36m_multiclass_roc_auc_score\u001b[0;34m(y_true, y_score, labels, multi_class, average, sample_weight)\u001b[0m\n\u001b[1;32m    625\u001b[0m     \"\"\"\n\u001b[1;32m    626\u001b[0m     \u001b[0;31m# validation of the input y_score\u001b[0m\u001b[0;34m\u001b[0m\u001b[0;34m\u001b[0m\u001b[0m\n\u001b[0;32m--> 627\u001b[0;31m     \u001b[0;32mif\u001b[0m \u001b[0;32mnot\u001b[0m \u001b[0mnp\u001b[0m\u001b[0;34m.\u001b[0m\u001b[0mallclose\u001b[0m\u001b[0;34m(\u001b[0m\u001b[0;36m1\u001b[0m\u001b[0;34m,\u001b[0m \u001b[0my_score\u001b[0m\u001b[0;34m.\u001b[0m\u001b[0msum\u001b[0m\u001b[0;34m(\u001b[0m\u001b[0maxis\u001b[0m\u001b[0;34m=\u001b[0m\u001b[0;36m1\u001b[0m\u001b[0;34m)\u001b[0m\u001b[0;34m)\u001b[0m\u001b[0;34m:\u001b[0m\u001b[0;34m\u001b[0m\u001b[0;34m\u001b[0m\u001b[0m\n\u001b[0m\u001b[1;32m    628\u001b[0m         raise ValueError(\n\u001b[1;32m    629\u001b[0m             \u001b[0;34m\"Target scores need to be probabilities for multiclass \"\u001b[0m\u001b[0;34m\u001b[0m\u001b[0;34m\u001b[0m\u001b[0m\n",
      "\u001b[0;32m/opt/anaconda3/lib/python3.9/site-packages/numpy/core/_methods.py\u001b[0m in \u001b[0;36m_sum\u001b[0;34m(a, axis, dtype, out, keepdims, initial, where)\u001b[0m\n\u001b[1;32m     46\u001b[0m def _sum(a, axis=None, dtype=None, out=None, keepdims=False,\n\u001b[1;32m     47\u001b[0m          initial=_NoValue, where=True):\n\u001b[0;32m---> 48\u001b[0;31m     \u001b[0;32mreturn\u001b[0m \u001b[0mumr_sum\u001b[0m\u001b[0;34m(\u001b[0m\u001b[0ma\u001b[0m\u001b[0;34m,\u001b[0m \u001b[0maxis\u001b[0m\u001b[0;34m,\u001b[0m \u001b[0mdtype\u001b[0m\u001b[0;34m,\u001b[0m \u001b[0mout\u001b[0m\u001b[0;34m,\u001b[0m \u001b[0mkeepdims\u001b[0m\u001b[0;34m,\u001b[0m \u001b[0minitial\u001b[0m\u001b[0;34m,\u001b[0m \u001b[0mwhere\u001b[0m\u001b[0;34m)\u001b[0m\u001b[0;34m\u001b[0m\u001b[0;34m\u001b[0m\u001b[0m\n\u001b[0m\u001b[1;32m     49\u001b[0m \u001b[0;34m\u001b[0m\u001b[0m\n\u001b[1;32m     50\u001b[0m def _prod(a, axis=None, dtype=None, out=None, keepdims=False,\n",
      "\u001b[0;31mAxisError\u001b[0m: axis 1 is out of bounds for array of dimension 1"
     ]
    }
   ],
   "source": [
    "classifier = LogisticRegression(max_iter = 500)\n",
    "classifier.fit(X_train, Y_train)\n",
    "\n",
    "print(\"train score:\", classifier.score(X_train, Y_train))\n",
    "print(\"test score:\", classifier.score(X_test, Y_test))\n",
    "\n",
    "Ptrain = classifier.predict(X_train)\n",
    "Ptest = classifier.predict(X_test)\n",
    "print(\"train F1:\", f1_score(Y_train, Ptrain, labels = labels, average = \"weighted\"))\n",
    "print(\"test F1:\", f1_score(Y_test, Ptest, labels = labels, average = \"weighted\"))\n",
    "\n",
    "Prob_train = classifier.predict_proba(X_train)[:,1]\n",
    "Prob_test = classifier.predict_proba(X_test)[:,1]\n",
    "print(\"train AUC:\", roc_auc_score(Y_train, Prob_train, multi_class = \"ovr\"))\n",
    "print(\"test AUC:\", roc_auc_score(Y_test, Prob_test, multi_class = \"ovr\"))"
   ]
  },
  {
   "cell_type": "markdown",
   "id": "3b17ba14",
   "metadata": {},
   "source": [
    "#### ValueError: multi_class must be in ('ovo', 'ovr')\n",
    "- the One-vs-Rest scheme compares each class against all the others (assumed as one);\n",
    "- the One-vs-One scheme compares every unique pairwise combination of classes."
   ]
  },
  {
   "cell_type": "code",
   "execution_count": 47,
   "id": "3610db89",
   "metadata": {},
   "outputs": [
    {
     "data": {
      "text/plain": [
       "array([[6787,   90,   22],\n",
       "       [ 193, 2067,   60],\n",
       "       [  56,   51, 1654]])"
      ]
     },
     "execution_count": 47,
     "metadata": {},
     "output_type": "execute_result"
    }
   ],
   "source": [
    "cm = confusion_matrix(Y_train, Ptrain)\n",
    "cm"
   ]
  },
  {
   "cell_type": "code",
   "execution_count": 48,
   "id": "cede07a5",
   "metadata": {},
   "outputs": [
    {
     "data": {
      "text/plain": [
       "array([[2041,  172,   66],\n",
       "       [ 243,  471,   65],\n",
       "       [  97,   88,  417]])"
      ]
     },
     "execution_count": 48,
     "metadata": {},
     "output_type": "execute_result"
    }
   ],
   "source": [
    "cm_test = confusion_matrix(Y_test, Ptest)\n",
    "cm_test"
   ]
  },
  {
   "cell_type": "code",
   "execution_count": 49,
   "id": "a630be67",
   "metadata": {},
   "outputs": [
    {
     "name": "stdout",
     "output_type": "stream",
     "text": [
      "train score: 0.9570127504553734\n",
      "test score: 0.8002732240437158\n",
      "train F1: 0.966641923221443\n",
      "test F1: 0.842713438465106\n"
     ]
    }
   ],
   "source": [
    "# with countvectorizer:\n",
    "\n",
    "vectorizer = CountVectorizer()\n",
    "X_train = vectorizer.fit_transform(texts_train)\n",
    "X_test = vectorizer.transform(texts_test)\n",
    "\n",
    "classifier = LogisticRegression(max_iter = 500)\n",
    "classifier.fit(X_train, Y_train)\n",
    "\n",
    "print(\"train score:\", classifier.score(X_train, Y_train))\n",
    "print(\"test score:\", classifier.score(X_test, Y_test))\n",
    "\n",
    "Ptrain = classifier.predict(X_train)\n",
    "Ptest = classifier.predict(X_test)\n",
    "print(\"train F1:\", f1_score(Y_train, Ptrain, labels = labels, average = \"weighted\"))\n",
    "print(\"test F1:\", f1_score(Y_test, Ptest, labels = labels, average = \"weighted\"))"
   ]
  },
  {
   "cell_type": "code",
   "execution_count": 50,
   "id": "21bf9513",
   "metadata": {},
   "outputs": [
    {
     "name": "stdout",
     "output_type": "stream",
     "text": [
      "train score: 0.9456284153005464\n",
      "test score: 0.7724043715846994\n",
      "train F1: 0.9578416805400891\n",
      "test F1: 0.8188515258228682\n"
     ]
    }
   ],
   "source": [
    "# with stopwords:\n",
    "\n",
    "vectorizer = CountVectorizer(stop_words = \"english\")\n",
    "X_train = vectorizer.fit_transform(texts_train)\n",
    "X_test = vectorizer.transform(texts_test)\n",
    "\n",
    "classifier = LogisticRegression(max_iter = 500)\n",
    "classifier.fit(X_train, Y_train)\n",
    "\n",
    "print(\"train score:\", classifier.score(X_train, Y_train))\n",
    "print(\"test score:\", classifier.score(X_test, Y_test))\n",
    "\n",
    "Ptrain = classifier.predict(X_train)\n",
    "Ptest = classifier.predict(X_test)\n",
    "print(\"train F1:\", f1_score(Y_train, Ptrain, labels = labels, average = \"weighted\"))\n",
    "print(\"test F1:\", f1_score(Y_test, Ptest, labels = labels, average = \"weighted\"))"
   ]
  },
  {
   "cell_type": "code",
   "execution_count": 52,
   "id": "ee07a303",
   "metadata": {},
   "outputs": [
    {
     "name": "stdout",
     "output_type": "stream",
     "text": [
      "train score: 0.8538251366120219\n",
      "test score: 0.7989071038251366\n",
      "train F1: 0.8835273657651912\n",
      "test F1: 0.8390259978958184\n"
     ]
    }
   ],
   "source": [
    "#tfidf\n",
    "from sklearn.feature_extraction.text import CountVectorizer, TfidfVectorizer\n",
    "vectorizer = TfidfVectorizer(max_features = 2000)\n",
    "X_train = vectorizer.fit_transform(texts_train)\n",
    "X_test = vectorizer.transform(texts_test)\n",
    "\n",
    "classifier = LogisticRegression(max_iter = 500)\n",
    "classifier.fit(X_train, Y_train)\n",
    "\n",
    "print(\"train score:\", classifier.score(X_train, Y_train))\n",
    "print(\"test score:\", classifier.score(X_test, Y_test))\n",
    "\n",
    "Ptrain = classifier.predict(X_train)\n",
    "Ptest = classifier.predict(X_test)\n",
    "print(\"train F1:\", f1_score(Y_train, Ptrain, labels = labels, average = \"weighted\"))\n",
    "print(\"test F1:\", f1_score(Y_test, Ptest, labels = labels, average = \"weighted\"))"
   ]
  },
  {
   "cell_type": "code",
   "execution_count": null,
   "id": "eac6e51a",
   "metadata": {},
   "outputs": [],
   "source": [
    "#bi boka benzemiyo sanki :D"
   ]
  }
 ],
 "metadata": {
  "kernelspec": {
   "display_name": "Python 3 (ipykernel)",
   "language": "python",
   "name": "python3"
  },
  "language_info": {
   "codemirror_mode": {
    "name": "ipython",
    "version": 3
   },
   "file_extension": ".py",
   "mimetype": "text/x-python",
   "name": "python",
   "nbconvert_exporter": "python",
   "pygments_lexer": "ipython3",
   "version": "3.9.13"
  }
 },
 "nbformat": 4,
 "nbformat_minor": 5
}
