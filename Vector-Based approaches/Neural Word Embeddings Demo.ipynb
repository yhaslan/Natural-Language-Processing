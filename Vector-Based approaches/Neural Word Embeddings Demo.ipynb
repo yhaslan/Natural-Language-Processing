{
 "cells": [
  {
   "cell_type": "markdown",
   "id": "16119789",
   "metadata": {},
   "source": [
    "# Neural Word Embeddings Demo"
   ]
  },
  {
   "cell_type": "code",
   "execution_count": 7,
   "id": "f6e69d3c",
   "metadata": {},
   "outputs": [
    {
     "name": "stdout",
     "output_type": "stream",
     "text": [
      "File 'GoogleNews-vectors-negative300.bin.gz' already there; not retrieving.\r\n",
      "\r\n"
     ]
    }
   ],
   "source": [
    "# Slower but always guaranteed to work\n",
    "!wget -nc https://lazyprogrammer.me/course_files/nlp/GoogleNews-vectors-negative300.bin.gz"
   ]
  },
  {
   "cell_type": "markdown",
   "id": "68dfb46b",
   "metadata": {},
   "source": [
    "The first step is to download some pretrained neural word embeddings\n",
    "\n",
    "In practice we mostly use word embeddings trained by someone else, bcz these methods tend to use very large datasets so you don't wanna replicate these work, hocanın başka derslerinde bunu anlatmış ama bu derste o detaya girmiycez\n",
    "\n",
    "Also, in the newer methods like transforms there's actually no way of training these models yourself, cost billions\n",
    "\n",
    "so only choice: pre-traiend models"
   ]
  },
  {
   "cell_type": "code",
   "execution_count": 10,
   "id": "83141c6e",
   "metadata": {},
   "outputs": [
    {
     "name": "stdout",
     "output_type": "stream",
     "text": [
      "Retrieving notices: ...working... done\n",
      "Collecting package metadata (current_repodata.json): done\n",
      "Solving environment: done\n",
      "\n",
      "\n",
      "==> WARNING: A newer version of conda exists. <==\n",
      "  current version: 23.3.1\n",
      "  latest version: 23.5.0\n",
      "\n",
      "Please update conda by running\n",
      "\n",
      "    $ conda update -n base -c defaults conda\n",
      "\n",
      "Or to minimize the number of packages updated during conda update use\n",
      "\n",
      "     conda install conda=23.5.0\n",
      "\n",
      "\n",
      "\n",
      "## Package Plan ##\n",
      "\n",
      "  environment location: /opt/anaconda3\n",
      "\n",
      "  added / updated specs:\n",
      "    - gdown\n",
      "\n",
      "\n",
      "The following packages will be downloaded:\n",
      "\n",
      "    package                    |            build\n",
      "    ---------------------------|-----------------\n",
      "    gdown-4.7.1                |     pyhd8ed1ab_0          19 KB  conda-forge\n",
      "    ------------------------------------------------------------\n",
      "                                           Total:          19 KB\n",
      "\n",
      "The following NEW packages will be INSTALLED:\n",
      "\n",
      "  gdown              conda-forge/noarch::gdown-4.7.1-pyhd8ed1ab_0 \n",
      "\n",
      "\n",
      "\n",
      "Downloading and Extracting Packages\n",
      "                                                                                \n",
      "Preparing transaction: done\n",
      "Verifying transaction: done\n",
      "Executing transaction: done\n",
      "\n",
      "Note: you may need to restart the kernel to use updated packages.\n"
     ]
    }
   ],
   "source": [
    "#bunu yapmadan import edebilmiş hoca, ben edemedim bakalım bunla olcak mı?\n",
    "conda install -c conda-forge gdown"
   ]
  },
  {
   "cell_type": "code",
   "execution_count": 1,
   "id": "f3de03e7",
   "metadata": {},
   "outputs": [],
   "source": [
    "import gdown #oldu ##ay ne gerek varmış ki buna "
   ]
  },
  {
   "cell_type": "code",
   "execution_count": 2,
   "id": "701ed971",
   "metadata": {},
   "outputs": [
    {
     "name": "stdout",
     "output_type": "stream",
     "text": [
      "zsh:1: no matches found: https://drive.google.com/uc?id=0B7XkCwpI5KDYNlNUTTlSS21pQmM\r\n"
     ]
    }
   ],
   "source": [
    "!gdown https://drive.google.com/uc?id=0B7XkCwpI5KDYNlNUTTlSS21pQmM\n",
    "#snaırım bu line zaten en başta indirdiğim şeyi mi indiriyo?"
   ]
  },
  {
   "cell_type": "code",
   "execution_count": 3,
   "id": "4de6186f",
   "metadata": {},
   "outputs": [
    {
     "name": "stdout",
     "output_type": "stream",
     "text": [
      "gunzip: can't stat: GoogleNews-vectors-negative300.bin.gz (GoogleNews-vectors-negative300.bin.gz.gz): No such file or directory\r\n"
     ]
    }
   ],
   "source": [
    "!gunzip GoogleNews-vectors-negative300.bin.gz #unzip the zipped file\n"
   ]
  },
  {
   "cell_type": "code",
   "execution_count": 2,
   "id": "2a6ea801",
   "metadata": {},
   "outputs": [],
   "source": [
    "#import key to vectors from gensim:\n",
    "from gensim.models import KeyedVectors\n",
    "\n",
    "#this class is a necessary API for interacting with word embeddings"
   ]
  },
  {
   "cell_type": "code",
   "execution_count": 15,
   "id": "1b7d7a74",
   "metadata": {},
   "outputs": [],
   "source": [
    "word_vectors = KeyedVectors.load_word2vec_format(\"GoogleNews-vectors-negative300.bin\", binary = True)"
   ]
  },
  {
   "cell_type": "code",
   "execution_count": 16,
   "id": "9e60ebf6",
   "metadata": {},
   "outputs": [],
   "source": [
    "## create a function to find analogies:\n",
    "# king to man, what to woman'ı bulmaya çalışcaz o yüzden 3 word input\n",
    "#hatırla: king + woman - man\n",
    "#we need to call the function \"most similar\", \n",
    "#the inputs to this function are the words represented by positive vectors and words reped by negative vectos\n",
    "\n",
    "def find_analogies(w1, w2, w3):\n",
    "    r = word_vectors.most_similar(positive = [w1, w3], negative = [w2])\n",
    "    print(\"%s - %s = %s - %s\" % (w1, w2, r[0][0], w3))\n",
    "    \n",
    "    #most similar words listesindeki ilk kelimeyi alabilmek adına r[0][0] indexi galiba"
   ]
  },
  {
   "cell_type": "code",
   "execution_count": 17,
   "id": "72990d50",
   "metadata": {},
   "outputs": [
    {
     "name": "stdout",
     "output_type": "stream",
     "text": [
      "king - man = queen - woman\n"
     ]
    }
   ],
   "source": [
    "find_analogies('king', 'man', 'woman')"
   ]
  },
  {
   "cell_type": "code",
   "execution_count": 18,
   "id": "01a05828",
   "metadata": {},
   "outputs": [
    {
     "name": "stdout",
     "output_type": "stream",
     "text": [
      "france - paris = england - london\n"
     ]
    }
   ],
   "source": [
    "find_analogies('france', 'paris', 'london')"
   ]
  },
  {
   "cell_type": "code",
   "execution_count": 19,
   "id": "670c8e68",
   "metadata": {},
   "outputs": [
    {
     "name": "stdout",
     "output_type": "stream",
     "text": [
      "france - paris = italy - rome\n"
     ]
    }
   ],
   "source": [
    "find_analogies('france', 'paris', 'rome')"
   ]
  },
  {
   "cell_type": "code",
   "execution_count": 29,
   "id": "f4b574c5",
   "metadata": {},
   "outputs": [
    {
     "name": "stdout",
     "output_type": "stream",
     "text": [
      "paris - france = lohan - italy\n"
     ]
    }
   ],
   "source": [
    "find_analogies('paris', 'france', 'italy') ##lohan: poor result\n",
    "#they're not perfect"
   ]
  },
  {
   "cell_type": "code",
   "execution_count": 20,
   "id": "46c2056d",
   "metadata": {},
   "outputs": [
    {
     "name": "stdout",
     "output_type": "stream",
     "text": [
      "france - french = england - english\n"
     ]
    }
   ],
   "source": [
    "find_analogies('france', 'french', 'english')"
   ]
  },
  {
   "cell_type": "code",
   "execution_count": 21,
   "id": "5439f6c5",
   "metadata": {},
   "outputs": [
    {
     "name": "stdout",
     "output_type": "stream",
     "text": [
      "japan - japanese = tibet - chinese\n"
     ]
    }
   ],
   "source": [
    "find_analogies('japan', 'japanese', 'chinese') ##tibet, closely related\n",
    "#still remarkable that result is acountry"
   ]
  },
  {
   "cell_type": "code",
   "execution_count": 23,
   "id": "8e8ca3ee",
   "metadata": {},
   "outputs": [
    {
     "name": "stdout",
     "output_type": "stream",
     "text": [
      "december - november = september - june\n"
     ]
    }
   ],
   "source": [
    "find_analogies('december', 'november', 'june')  ##september not what we expected but still a mo th"
   ]
  },
  {
   "cell_type": "code",
   "execution_count": 24,
   "id": "6885527f",
   "metadata": {},
   "outputs": [
    {
     "name": "stdout",
     "output_type": "stream",
     "text": [
      "miami - florida = dallas - texas\n"
     ]
    }
   ],
   "source": [
    "find_analogies('miami', 'florida', 'texas')"
   ]
  },
  {
   "cell_type": "code",
   "execution_count": 25,
   "id": "00bf0c98",
   "metadata": {},
   "outputs": [
    {
     "name": "stdout",
     "output_type": "stream",
     "text": [
      "einstein - scientist = jude - painter\n"
     ]
    }
   ],
   "source": [
    "find_analogies('einstein', 'scientist', 'painter') #jude kim"
   ]
  },
  {
   "cell_type": "code",
   "execution_count": 26,
   "id": "f96c7e9e",
   "metadata": {},
   "outputs": [
    {
     "name": "stdout",
     "output_type": "stream",
     "text": [
      "man - woman = he - she\n"
     ]
    }
   ],
   "source": [
    "find_analogies('man', 'woman', 'she')"
   ]
  },
  {
   "cell_type": "code",
   "execution_count": 27,
   "id": "d0583c2b",
   "metadata": {},
   "outputs": [
    {
     "name": "stdout",
     "output_type": "stream",
     "text": [
      "man - woman = brother - sister\n"
     ]
    }
   ],
   "source": [
    "find_analogies('man', 'woman', 'sister')"
   ]
  },
  {
   "cell_type": "code",
   "execution_count": 28,
   "id": "0d5c6e65",
   "metadata": {},
   "outputs": [
    {
     "name": "stdout",
     "output_type": "stream",
     "text": [
      "man - woman = son - wife\n"
     ]
    }
   ],
   "source": [
    "find_analogies('man', 'woman', 'wife') #son?"
   ]
  },
  {
   "cell_type": "markdown",
   "id": "a9d4644c",
   "metadata": {},
   "source": [
    "We so far dealt with analogies but an even simpler question: What are the similar words\n",
    "\n",
    "For this, we'll look at nearest neighbors"
   ]
  },
  {
   "cell_type": "code",
   "execution_count": 30,
   "id": "e0a7897f",
   "metadata": {},
   "outputs": [],
   "source": [
    "def nearest_neighbors(w): #simpler, just specify positive arguments\n",
    "    r = word_vectors.most_similar(positive = [w])\n",
    "    print(\"neighbors of: %s\" % w)\n",
    "    for word, score in r: \n",
    "        ##BURDAN ÖĞRENDİK Kİ R Bİ WORD,SCORE TUPLE'LARI LİSTESİ GLB\n",
    "        print(\"\\t%s\" % word) ##bu line'ı anlamadım.."
   ]
  },
  {
   "cell_type": "code",
   "execution_count": 31,
   "id": "61c01690",
   "metadata": {},
   "outputs": [
    {
     "name": "stdout",
     "output_type": "stream",
     "text": [
      "neighbors of: king\n",
      "\tkings\n",
      "\tqueen\n",
      "\tmonarch\n",
      "\tcrown_prince\n",
      "\tprince\n",
      "\tsultan\n",
      "\truler\n",
      "\tprinces\n",
      "\tPrince_Paras\n",
      "\tthrone\n"
     ]
    }
   ],
   "source": [
    "nearest_neighbors('king')"
   ]
  },
  {
   "cell_type": "code",
   "execution_count": 32,
   "id": "7f315f1f",
   "metadata": {},
   "outputs": [
    {
     "name": "stdout",
     "output_type": "stream",
     "text": [
      "neighbors of: france\n",
      "\tspain\n",
      "\tfrench\n",
      "\tgermany\n",
      "\teurope\n",
      "\titaly\n",
      "\tengland\n",
      "\teuropean\n",
      "\tbelgium\n",
      "\tusa\n",
      "\tserbia\n"
     ]
    }
   ],
   "source": [
    "nearest_neighbors('france') #all western counties"
   ]
  },
  {
   "cell_type": "code",
   "execution_count": 33,
   "id": "026165d4",
   "metadata": {},
   "outputs": [
    {
     "name": "stdout",
     "output_type": "stream",
     "text": [
      "neighbors of: japan\n",
      "\tjapanese\n",
      "\ttokyo\n",
      "\tamerica\n",
      "\teurope\n",
      "\tgermany\n",
      "\tchinese\n",
      "\tindia\n",
      "\thawaii\n",
      "\tusa\n",
      "\tkorea\n"
     ]
    }
   ],
   "source": [
    "nearest_neighbors('japan')"
   ]
  },
  {
   "cell_type": "markdown",
   "id": "a23d5a41",
   "metadata": {},
   "source": [
    "nearest_neighbors('einstein') #lmfao, maybe sarcasmdan dolayı"
   ]
  },
  {
   "cell_type": "code",
   "execution_count": 35,
   "id": "73ffa0f2",
   "metadata": {},
   "outputs": [
    {
     "name": "stdout",
     "output_type": "stream",
     "text": [
      "neighbors of: woman\n",
      "\tman\n",
      "\tgirl\n",
      "\tteenage_girl\n",
      "\tteenager\n",
      "\tlady\n",
      "\tteenaged_girl\n",
      "\tmother\n",
      "\tpolicewoman\n",
      "\tboy\n",
      "\tWoman\n"
     ]
    }
   ],
   "source": [
    "nearest_neighbors('woman')"
   ]
  },
  {
   "cell_type": "code",
   "execution_count": 36,
   "id": "83608eda",
   "metadata": {},
   "outputs": [
    {
     "name": "stdout",
     "output_type": "stream",
     "text": [
      "neighbors of: nephew\n",
      "\tson\n",
      "\tuncle\n",
      "\tbrother\n",
      "\tgrandson\n",
      "\tcousin\n",
      "\tfather\n",
      "\tniece\n",
      "\tyounger_brother\n",
      "\tnephews\n",
      "\tstepson\n"
     ]
    }
   ],
   "source": [
    "nearest_neighbors('nephew')"
   ]
  },
  {
   "cell_type": "code",
   "execution_count": 37,
   "id": "12cb608b",
   "metadata": {},
   "outputs": [
    {
     "name": "stdout",
     "output_type": "stream",
     "text": [
      "neighbors of: february\n",
      "\tjanuary\n",
      "\tapril\n",
      "\tseptember\n",
      "\tdecember\n",
      "\tjuly\n",
      "\toctober\n",
      "\tnovember\n",
      "\tjune\n",
      "\tfeb\n",
      "\tnorway\n"
     ]
    }
   ],
   "source": [
    "nearest_neighbors('february')"
   ]
  },
  {
   "cell_type": "markdown",
   "id": "7fff7350",
   "metadata": {},
   "source": [
    "### Exercise: download pretrained GloVe vectors from\n",
    "https://nlp.stanford.edu/projects/glove/\n",
    "\n",
    "Implement your own find_analogies() and nearest_neighbors()\n",
    "\n",
    "Check whether GloVe vectors are better than word2vecs\n",
    "\n",
    "- Hint: you do NOT have to go hunting around on Stackoverflow\n",
    "- you do NOT have to copy and paste code from anywhere\n",
    "- look at the file you downloaded"
   ]
  },
  {
   "cell_type": "code",
   "execution_count": 38,
   "id": "1d889191",
   "metadata": {},
   "outputs": [
    {
     "name": "stdout",
     "output_type": "stream",
     "text": [
      "--2023-06-09 11:20:59--  https://huggingface.co/stanfordnlp/glove/resolve/main/glove.42B.300d.zip\n",
      "Resolving huggingface.co (huggingface.co)... 13.32.145.11, 13.32.145.14, 13.32.145.73, ...\n",
      "Connecting to huggingface.co (huggingface.co)|13.32.145.11|:443... connected.\n",
      "HTTP request sent, awaiting response... 302 Found\n",
      "Location: https://cdn-lfs.huggingface.co/stanfordnlp/glove/357baac33090f645e71e253b3295ee1b767c98a0336e9a1d99c77e9e33b43c4a?response-content-disposition=attachment%3B+filename*%3DUTF-8%27%27glove.42B.300d.zip%3B+filename%3D%22glove.42B.300d.zip%22%3B&response-content-type=application%2Fzip&Expires=1686561531&Policy=eyJTdGF0ZW1lbnQiOlt7IlJlc291cmNlIjoiaHR0cHM6Ly9jZG4tbGZzLmh1Z2dpbmdmYWNlLmNvL3N0YW5mb3JkbmxwL2dsb3ZlLzM1N2JhYWMzMzA5MGY2NDVlNzFlMjUzYjMyOTVlZTFiNzY3Yzk4YTAzMzZlOWExZDk5Yzc3ZTllMzNiNDNjNGE%7EcmVzcG9uc2UtY29udGVudC1kaXNwb3NpdGlvbj0qJnJlc3BvbnNlLWNvbnRlbnQtdHlwZT0qIiwiQ29uZGl0aW9uIjp7IkRhdGVMZXNzVGhhbiI6eyJBV1M6RXBvY2hUaW1lIjoxNjg2NTYxNTMxfX19XX0_&Signature=LxaPD7wI7beQD-3WlqWwLz7AuIXEFvZJF6SpOzKcfKFSUQPA1kB9nvTgVfdIRjeSWN9GfOZhWbPcyxNweoUXJA34yP8wostBF9kfcp%7EmCdm4X8TYIUfSZshPXc5sTC1GD5H1NvWMZA9-woAx4VRtiTUrZ6q3SVRqfMfguqYHLC%7EdGwe4vV10TbR0R-R6-jE5T%7EMQwWR2kEcGlzQW38ABTLAavgF1mKRNWlrb6eynwKEHVwKmHatsKuF9sYIcBYgW1XJKnMW1YOUgqkOeV21XLkipZ%7EdSqg0sZk-dpwnFLLFnG%7EhW69C9nzSjIqphtijZqZgjwTDg2ZAaT4R3X9vSug__&Key-Pair-Id=KVTP0A1DKRTAX [following]\n",
      "--2023-06-09 11:21:00--  https://cdn-lfs.huggingface.co/stanfordnlp/glove/357baac33090f645e71e253b3295ee1b767c98a0336e9a1d99c77e9e33b43c4a?response-content-disposition=attachment%3B+filename*%3DUTF-8''glove.42B.300d.zip%3B+filename%3D%22glove.42B.300d.zip%22%3B&response-content-type=application%2Fzip&Expires=1686561531&Policy=eyJTdGF0ZW1lbnQiOlt7IlJlc291cmNlIjoiaHR0cHM6Ly9jZG4tbGZzLmh1Z2dpbmdmYWNlLmNvL3N0YW5mb3JkbmxwL2dsb3ZlLzM1N2JhYWMzMzA5MGY2NDVlNzFlMjUzYjMyOTVlZTFiNzY3Yzk4YTAzMzZlOWExZDk5Yzc3ZTllMzNiNDNjNGE~cmVzcG9uc2UtY29udGVudC1kaXNwb3NpdGlvbj0qJnJlc3BvbnNlLWNvbnRlbnQtdHlwZT0qIiwiQ29uZGl0aW9uIjp7IkRhdGVMZXNzVGhhbiI6eyJBV1M6RXBvY2hUaW1lIjoxNjg2NTYxNTMxfX19XX0_&Signature=LxaPD7wI7beQD-3WlqWwLz7AuIXEFvZJF6SpOzKcfKFSUQPA1kB9nvTgVfdIRjeSWN9GfOZhWbPcyxNweoUXJA34yP8wostBF9kfcp~mCdm4X8TYIUfSZshPXc5sTC1GD5H1NvWMZA9-woAx4VRtiTUrZ6q3SVRqfMfguqYHLC~dGwe4vV10TbR0R-R6-jE5T~MQwWR2kEcGlzQW38ABTLAavgF1mKRNWlrb6eynwKEHVwKmHatsKuF9sYIcBYgW1XJKnMW1YOUgqkOeV21XLkipZ~dSqg0sZk-dpwnFLLFnG~hW69C9nzSjIqphtijZqZgjwTDg2ZAaT4R3X9vSug__&Key-Pair-Id=KVTP0A1DKRTAX\n",
      "Resolving cdn-lfs.huggingface.co (cdn-lfs.huggingface.co)... 52.222.174.32, 52.222.174.26, 52.222.174.3, ...\n",
      "Connecting to cdn-lfs.huggingface.co (cdn-lfs.huggingface.co)|52.222.174.32|:443... connected.\n",
      "HTTP request sent, awaiting response... 200 OK\n",
      "Length: 1877802108 (1.7G) [application/zip]\n",
      "Saving to: 'glove.42B.300d.zip'\n",
      "\n",
      "glove.42B.300d.zip  100%[===================>]   1.75G  2.32MB/s    in 15m 53s \n",
      "\n",
      "2023-06-09 11:36:55 (1.88 MB/s) - 'glove.42B.300d.zip' saved [1877802108/1877802108]\n",
      "\n"
     ]
    }
   ],
   "source": [
    "!wget -nc https://nlp.stanford.edu/data/glove.6B.zip ##şu an execute etme manüel indirdim bunu\n",
    "    #sağa tıklayıp copy link yaptım githubdan\n",
    "    #https://github.com/stanfordnlp/GloVe"
   ]
  },
  {
   "cell_type": "code",
   "execution_count": 39,
   "id": "880503d2",
   "metadata": {},
   "outputs": [],
   "source": [
    "## daha küçük paketlerde vardı yahu bundan 1.7 gb lık bu"
   ]
  },
  {
   "cell_type": "code",
   "execution_count": 48,
   "id": "e276c0ab",
   "metadata": {},
   "outputs": [
    {
     "name": "stdout",
     "output_type": "stream",
     "text": [
      "Archive:  glove.42B.300d.zip\n",
      "replace glove.42B.300d.txt? [y]es, [n]o, [A]ll, [N]one, [r]ename: ^C\n"
     ]
    }
   ],
   "source": [
    "###normal yollardan elimle unziplemeye karar verdim"
   ]
  },
  {
   "cell_type": "code",
   "execution_count": 18,
   "id": "a2a85daa",
   "metadata": {},
   "outputs": [
    {
     "name": "stderr",
     "output_type": "stream",
     "text": [
      "/var/folders/5d/9bnp6m5d7db0pky3235l4wgh0000gn/T/ipykernel_4743/1997022198.py:6: DeprecationWarning: Call to deprecated `glove2word2vec` (KeyedVectors.load_word2vec_format(.., binary=False, no_header=True) loads GLoVE text vectors.).\n",
      "  glove2word2vec(glove_file, word2vec_glove_file)\n"
     ]
    }
   ],
   "source": [
    "from gensim.test.utils import datapath, get_tmpfile\n",
    "from gensim.scripts.glove2word2vec import glove2word2vec\n",
    "\n",
    "glove_file = datapath('/Users/yagmuraslan/Desktop/Udemy NLP/Vector-Based approaches/glove.6B/glove.6B.100d.txt')\n",
    "word2vec_glove_file = get_tmpfile(\"glove.6B.100d.word2vec.txt.txt\") ###bu nerden geliyo ya da ben mi yaratıyorum\n",
    "glove2word2vec(glove_file, word2vec_glove_file)\n",
    "\n",
    "word_vectors_GloVe = KeyedVectors.load_word2vec_format(word2vec_glove_file)"
   ]
  },
  {
   "cell_type": "code",
   "execution_count": 19,
   "id": "bda02de6",
   "metadata": {},
   "outputs": [],
   "source": [
    "def find_analogies_GloVe(w1, w2, w3):\n",
    "    r = word_vectors_GloVe.most_similar(positive = [w1, w3], negative = [w2])\n",
    "    print(\"%s - %s = %s - %s\" % (w1, w2, r[0][0], w3))"
   ]
  },
  {
   "cell_type": "code",
   "execution_count": 20,
   "id": "375a6a2b",
   "metadata": {},
   "outputs": [
    {
     "name": "stdout",
     "output_type": "stream",
     "text": [
      "king - man = queen - woman\n"
     ]
    }
   ],
   "source": [
    "find_analogies_GloVe('king', 'man', 'woman')\n",
    "\n",
    "####OLDUUUUU"
   ]
  },
  {
   "cell_type": "code",
   "execution_count": 23,
   "id": "d1659bf7",
   "metadata": {},
   "outputs": [
    {
     "name": "stdout",
     "output_type": "stream",
     "text": [
      "france - paris = britain - london\n"
     ]
    }
   ],
   "source": [
    "find_analogies_GloVe('france', 'paris', 'london')  #england yerine britain"
   ]
  },
  {
   "cell_type": "code",
   "execution_count": 24,
   "id": "7525a120",
   "metadata": {},
   "outputs": [
    {
     "name": "stdout",
     "output_type": "stream",
     "text": [
      "paris - france = rome - italy\n"
     ]
    }
   ],
   "source": [
    "find_analogies_GloVe('paris', 'france', 'italy') ##lohan değil roma"
   ]
  },
  {
   "cell_type": "code",
   "execution_count": 25,
   "id": "c5ee1764",
   "metadata": {},
   "outputs": [
    {
     "name": "stdout",
     "output_type": "stream",
     "text": [
      "france - french = england - english\n"
     ]
    }
   ],
   "source": [
    "find_analogies_GloVe('france', 'french', 'english')"
   ]
  },
  {
   "cell_type": "code",
   "execution_count": 26,
   "id": "c8bfeff5",
   "metadata": {},
   "outputs": [
    {
     "name": "stdout",
     "output_type": "stream",
     "text": [
      "japan - japanese = china - chinese\n"
     ]
    }
   ],
   "source": [
    "find_analogies_GloVe('japan', 'japanese', 'chinese') ##tibet yerine china"
   ]
  },
  {
   "cell_type": "code",
   "execution_count": 27,
   "id": "1d0cf8ff",
   "metadata": {},
   "outputs": [
    {
     "name": "stdout",
     "output_type": "stream",
     "text": [
      "december - november = july - june\n"
     ]
    }
   ],
   "source": [
    "find_analogies_GloVe('december', 'november', 'june') ##ay sırasını doğru buldu"
   ]
  },
  {
   "cell_type": "code",
   "execution_count": 28,
   "id": "6e6171b1",
   "metadata": {},
   "outputs": [
    {
     "name": "stdout",
     "output_type": "stream",
     "text": [
      "einstein - scientist = picasso - painter\n"
     ]
    }
   ],
   "source": [
    "find_analogies_GloVe('einstein', 'scientist', 'painter') ##daha ünlü bi ressam"
   ]
  },
  {
   "cell_type": "code",
   "execution_count": 29,
   "id": "81a1507c",
   "metadata": {},
   "outputs": [
    {
     "name": "stdout",
     "output_type": "stream",
     "text": [
      "miami - florida = dallas - texas\n"
     ]
    }
   ],
   "source": [
    "find_analogies_GloVe('miami', 'florida', 'texas')"
   ]
  },
  {
   "cell_type": "code",
   "execution_count": 30,
   "id": "66ef27ee",
   "metadata": {},
   "outputs": [
    {
     "name": "stdout",
     "output_type": "stream",
     "text": [
      "man - woman = brother - wife\n"
     ]
    }
   ],
   "source": [
    "find_analogies_GloVe('man', 'woman', 'wife') ### son yerine brother hahahahah"
   ]
  },
  {
   "cell_type": "code",
   "execution_count": 31,
   "id": "7b9639d4",
   "metadata": {},
   "outputs": [],
   "source": [
    "def nearest_neighbors_GloVe(w):\n",
    "  r = word_vectors_GloVe.most_similar(positive=[w])\n",
    "  print(\"neighbors of: %s\" % w)\n",
    "  for word, score in r:\n",
    "    print(\"\\t%s\" % word)"
   ]
  },
  {
   "cell_type": "code",
   "execution_count": 32,
   "id": "5b0eed20",
   "metadata": {},
   "outputs": [
    {
     "name": "stdout",
     "output_type": "stream",
     "text": [
      "neighbors of: king\n",
      "\tprince\n",
      "\tqueen\n",
      "\tson\n",
      "\tbrother\n",
      "\tmonarch\n",
      "\tthrone\n",
      "\tkingdom\n",
      "\tfather\n",
      "\temperor\n",
      "\tii\n"
     ]
    }
   ],
   "source": [
    "nearest_neighbors_GloVe('king')"
   ]
  },
  {
   "cell_type": "code",
   "execution_count": 33,
   "id": "1177dba6",
   "metadata": {},
   "outputs": [
    {
     "name": "stdout",
     "output_type": "stream",
     "text": [
      "neighbors of: france\n",
      "\tbelgium\n",
      "\tfrench\n",
      "\tbritain\n",
      "\tspain\n",
      "\tparis\n",
      "\tgermany\n",
      "\titaly\n",
      "\teurope\n",
      "\tnetherlands\n",
      "\tluxembourg\n"
     ]
    }
   ],
   "source": [
    "nearest_neighbors_GloVe('france')"
   ]
  },
  {
   "cell_type": "code",
   "execution_count": 34,
   "id": "42e99084",
   "metadata": {},
   "outputs": [
    {
     "name": "stdout",
     "output_type": "stream",
     "text": [
      "neighbors of: japan\n",
      "\tjapanese\n",
      "\tkorea\n",
      "\ttokyo\n",
      "\tchina\n",
      "\tindonesia\n",
      "\trussia\n",
      "\tasia\n",
      "\tthailand\n",
      "\ttaiwan\n",
      "\tgermany\n"
     ]
    }
   ],
   "source": [
    "nearest_neighbors_GloVe('japan')"
   ]
  },
  {
   "cell_type": "code",
   "execution_count": 35,
   "id": "e19ce9f9",
   "metadata": {},
   "outputs": [
    {
     "name": "stdout",
     "output_type": "stream",
     "text": [
      "neighbors of: einstein\n",
      "\trelativity\n",
      "\tfreud\n",
      "\tphysics\n",
      "\tbohr\n",
      "\ttheory\n",
      "\tquantum\n",
      "\tsigmund\n",
      "\ttheories\n",
      "\tcosmological\n",
      "\tequations\n"
     ]
    }
   ],
   "source": [
    "nearest_neighbors_GloVe('einstein')"
   ]
  },
  {
   "cell_type": "code",
   "execution_count": null,
   "id": "4092c158",
   "metadata": {},
   "outputs": [],
   "source": [
    "### KESİNLİKLE GLOVE DAHA İYİ GİBİ DURUYO!"
   ]
  }
 ],
 "metadata": {
  "kernelspec": {
   "display_name": "Python 3 (ipykernel)",
   "language": "python",
   "name": "python3"
  },
  "language_info": {
   "codemirror_mode": {
    "name": "ipython",
    "version": 3
   },
   "file_extension": ".py",
   "mimetype": "text/x-python",
   "name": "python",
   "nbconvert_exporter": "python",
   "pygments_lexer": "ipython3",
   "version": "3.9.13"
  }
 },
 "nbformat": 4,
 "nbformat_minor": 5
}
